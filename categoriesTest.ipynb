{
 "cells": [
  {
   "cell_type": "code",
   "execution_count": 1,
   "metadata": {},
   "outputs": [
    {
     "name": "stdout",
     "output_type": "stream",
     "text": [
      "Begin...\n",
      "Checking associativity...\n",
      "(\"h\", \"g\", \"f\")\n",
      "(\"id2\", \"g\", \"f\")\n",
      "(\"g\", \"id1\", \"f\")\n",
      "(\"id1\", \"id1\", \"f\")\n",
      "(\"k\", \"id1\", \"f\")\n",
      "(\"id3\", \"k\", \"f\")\n",
      "(\"id3\", \"id3\", \"id3\")\n",
      "(\"id3\", \"id3\", \"h\")\n",
      "(\"id3\", \"h\", \"i\")\n",
      "(\"h\", \"id2\", \"i\")\n",
      "(\"id2\", \"id2\", \"i\")\n",
      "(\"id3\", \"h\", \"g\")\n",
      "(\"h\", \"id2\", \"g\")\n",
      "(\"id2\", \"id2\", \"g\")\n",
      "(\"h\", \"g\", \"id1\")\n",
      "(\"id2\", \"g\", \"id1\")\n",
      "(\"g\", \"id1\", \"id1\")\n",
      "(\"id1\", \"id1\", \"id1\")\n",
      "(\"k\", \"id1\", \"id1\")\n",
      "(\"id3\", \"k\", \"id1\")\n",
      "(\"id3\", \"id3\", \"k\")\n",
      "(\"g\", \"f\", \"id0\")\n",
      "(\"id1\", \"f\", \"id0\")\n",
      "(\"k\", \"f\", \"id0\")\n",
      "(\"h\", \"i\", \"id0\")\n",
      "(\"id2\", \"i\", \"id0\")\n",
      "(\"f\", \"id0\", \"id0\")\n",
      "(\"i\", \"id0\", \"id0\")\n",
      "(\"id0\", \"id0\", \"id0\")\n",
      "(\"m\", \"id0\", \"id0\")\n",
      "(\"n\", \"id0\", \"id0\")\n",
      "(\"id3\", \"m\", \"id0\")\n",
      "(\"id3\", \"n\", \"id0\")\n",
      "(\"id3\", \"id3\", \"m\")\n",
      "(\"id3\", \"h\", \"id2\")\n",
      "(\"h\", \"id2\", \"id2\")\n",
      "(\"id2\", \"id2\", \"id2\")\n",
      "(\"id3\", \"id3\", \"n\")\n",
      "Checking associativity...\n",
      "(\"h\", \"g\", \"f\")\n",
      "(\"id2\", \"g\", \"f\")\n",
      "(\"g\", \"id1\", \"f\")\n",
      "(\"id1\", \"id1\", \"f\")\n",
      "(\"k\", \"id1\", \"f\")\n",
      "(\"id3\", \"k\", \"f\")\n",
      "(\"id3\", \"id3\", \"id3\")\n",
      "(\"id3\", \"id3\", \"h\")\n",
      "(\"id3\", \"h\", \"i\")\n",
      "(\"h\", \"id2\", \"i\")\n",
      "(\"id2\", \"id2\", \"i\")\n",
      "(\"id3\", \"h\", \"g\")\n",
      "(\"h\", \"id2\", \"g\")\n",
      "(\"id2\", \"id2\", \"g\")\n",
      "(\"h\", \"g\", \"id1\")\n",
      "(\"id2\", \"g\", \"id1\")\n",
      "(\"g\", \"id1\", \"id1\")\n",
      "(\"id1\", \"id1\", \"id1\")\n",
      "(\"k\", \"id1\", \"id1\")\n",
      "(\"id3\", \"k\", \"id1\")\n",
      "(\"id3\", \"id3\", \"k\")\n",
      "(\"g\", \"f\", \"id0\")\n",
      "(\"id1\", \"f\", \"id0\")\n",
      "(\"k\", \"f\", \"id0\")\n",
      "(\"h\", \"i\", \"id0\")\n",
      "(\"id2\", \"i\", \"id0\")\n",
      "(\"f\", \"id0\", \"id0\")\n",
      "(\"i\", \"id0\", \"id0\")\n",
      "(\"id0\", \"id0\", \"id0\")\n",
      "(\"m\", \"id0\", \"id0\")\n",
      "(\"n\", \"id0\", \"id0\")\n",
      "(\"id3\", \"m\", \"id0\")\n",
      "(\"id3\", \"n\", \"id0\")\n",
      "(\"id3\", \"id3\", \"m\")\n",
      "(\"id3\", \"h\", \"id2\")\n",
      "(\"h\", \"id2\", \"id2\")\n",
      "(\"id2\", \"id2\", \"id2\")\n",
      "(\"id3\", \"id3\", \"n\")\n",
      "Done...\n"
     ]
    }
   ],
   "source": [
    "include(\"categories.jl\")"
   ]
  },
  {
   "cell_type": "code",
   "execution_count": 14,
   "metadata": {},
   "outputs": [],
   "source": [
    "#using NBInclude\n",
    "#nbexport(\"test.jl\", \"categories.ipynb\")"
   ]
  }
 ],
 "metadata": {
  "kernelspec": {
   "display_name": "Julia 1.10.2",
   "language": "julia",
   "name": "julia-1.10"
  },
  "language_info": {
   "file_extension": ".jl",
   "mimetype": "application/julia",
   "name": "julia",
   "version": "1.10.2"
  }
 },
 "nbformat": 4,
 "nbformat_minor": 4
}
