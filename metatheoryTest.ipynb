{
 "cells": [
  {
   "cell_type": "code",
   "execution_count": 5,
   "metadata": {},
   "outputs": [],
   "source": [
    "using Metatheory\n",
    "using Metatheory.EGraphs\n",
    "using Metatheory.Library"
   ]
  },
  {
   "cell_type": "code",
   "execution_count": 12,
   "metadata": {},
   "outputs": [],
   "source": [
    "comm_monoid = @theory  a b c begin\n",
    "    # commutativity\n",
    "    a * b => b * a\n",
    "    # identity\n",
    "    a * 1 => a\n",
    "    # associativity\n",
    "    a * (b * c) => (a * b) * c\n",
    "    (a * b) * c => a * (b * c)\n",
    "end;"
   ]
  },
  {
   "cell_type": "code",
   "execution_count": 7,
   "metadata": {},
   "outputs": [],
   "source": [
    "    comm_group = @theory a b c begin\n",
    "        # commutativity\n",
    "        a + b => b + a\n",
    "        # identity\n",
    "        a + 0 => a\n",
    "        # associativity\n",
    "        a + (b + c) => (a + b) + c\n",
    "        (a + b) + c => a + (b + c)\n",
    "        # inverse\n",
    "        a + (-a) => 0\n",
    "    end;"
   ]
  },
  {
   "cell_type": "code",
   "execution_count": 45,
   "metadata": {},
   "outputs": [],
   "source": [
    "# dynamic rules are defined with the `|>` operator\n",
    "folder = @theory a b begin\n",
    "    a::Real + b::Real => a+b\n",
    "    a::Real * b::Real => a*b\n",
    "end;"
   ]
  },
  {
   "cell_type": "code",
   "execution_count": 52,
   "metadata": {},
   "outputs": [],
   "source": [
    "div_sim = @theory a b c begin\n",
    "    (a * b) / c => a * (b / c)\n",
    "    a::Real / a::Real => (a != 0 ? 1 : error(\"division by 0\"))\n",
    "end;"
   ]
  },
  {
   "cell_type": "code",
   "execution_count": 53,
   "metadata": {},
   "outputs": [],
   "source": [
    "t = union(comm_monoid, comm_group, folder, div_sim) ;\n",
    "g = EGraph(:(a * (2*3) / 6));"
   ]
  },
  {
   "cell_type": "code",
   "execution_count": 54,
   "metadata": {},
   "outputs": [
    {
     "ename": "MethodError",
     "evalue": "MethodError: no method matching /(::EClass, ::Int64)\n\nClosest candidates are:\n  /(!Matched::Missing, ::Number)\n   @ Base missing.jl:123\n  /(!Matched::LinearAlgebra.UnitUpperTriangular, ::Number)\n   @ LinearAlgebra C:\\Users\\jetti\\.julia\\juliaup\\julia-1.10.2+0.x64.w64.mingw32\\share\\julia\\stdlib\\v1.10\\LinearAlgebra\\src\\triangular.jl:892\n  /(!Matched::LinearAlgebra.LowerTriangular, ::Number)\n   @ LinearAlgebra C:\\Users\\jetti\\.julia\\juliaup\\julia-1.10.2+0.x64.w64.mingw32\\share\\julia\\stdlib\\v1.10\\LinearAlgebra\\src\\triangular.jl:890\n  ...\n",
     "output_type": "error",
     "traceback": [
      "MethodError: no method matching /(::EClass, ::Int64)\n",
      "\n",
      "Closest candidates are:\n",
      "  /(!Matched::Missing, ::Number)\n",
      "   @ Base missing.jl:123\n",
      "  /(!Matched::LinearAlgebra.UnitUpperTriangular, ::Number)\n",
      "   @ LinearAlgebra C:\\Users\\jetti\\.julia\\juliaup\\julia-1.10.2+0.x64.w64.mingw32\\share\\julia\\stdlib\\v1.10\\LinearAlgebra\\src\\triangular.jl:892\n",
      "  /(!Matched::LinearAlgebra.LowerTriangular, ::Number)\n",
      "   @ LinearAlgebra C:\\Users\\jetti\\.julia\\juliaup\\julia-1.10.2+0.x64.w64.mingw32\\share\\julia\\stdlib\\v1.10\\LinearAlgebra\\src\\triangular.jl:890\n",
      "  ...\n",
      "\n",
      "\n",
      "Stacktrace:\n",
      "  [1] (::var\"#81#83\")(_lhs_expr::Int64, _egraph::EGraph, a::Symbol, b::EClass, c::Int64)\n",
      "    @ Main C:\\Users\\jetti\\.julia\\packages\\Metatheory\\ooi9X\\src\\Syntax.jl:347\n",
      "  [2] apply_rule!(bindings::Base.ImmutableDict{Int64, Tuple{Int64, Int64}}, g::EGraph, rule::DynamicRule, id::Int64, direction::Int64)\n",
      "    @ Metatheory.EGraphs C:\\Users\\jetti\\.julia\\packages\\Metatheory\\ooi9X\\src\\EGraphs\\saturation.jl:207\n",
      "  [3] (::Metatheory.EGraphs.var\"#39#41\"{EGraph, Vector{DynamicRule}, Metatheory.EGraphs.SaturationReport, SaturationParams})()\n",
      "    @ Metatheory.EGraphs C:\\Users\\jetti\\.julia\\packages\\Metatheory\\ooi9X\\src\\EGraphs\\saturation.jl:237\n",
      "  [4] maybelock!\n",
      "    @ C:\\Users\\jetti\\.julia\\packages\\Metatheory\\ooi9X\\src\\EGraphs\\egraph.jl:233 [inlined]\n",
      "  [5] eqsat_apply!(g::EGraph, theory::Vector{DynamicRule}, rep::Metatheory.EGraphs.SaturationReport, params::SaturationParams)\n",
      "    @ Metatheory.EGraphs C:\\Users\\jetti\\.julia\\packages\\Metatheory\\ooi9X\\src\\EGraphs\\saturation.jl:221\n",
      "  [6] macro expansion\n",
      "    @ C:\\Users\\jetti\\.julia\\packages\\TimerOutputs\\RsWnF\\src\\TimerOutput.jl:237 [inlined]\n",
      "  [7] eqsat_step!(g::EGraph, theory::Vector{DynamicRule}, curr_iter::Int64, scheduler::Metatheory.EGraphs.Schedulers.BackoffScheduler, params::SaturationParams, report::Metatheory.EGraphs.SaturationReport)\n",
      "    @ Metatheory.EGraphs C:\\Users\\jetti\\.julia\\packages\\Metatheory\\ooi9X\\src\\EGraphs\\saturation.jl:270\n",
      "  [8] saturate!(g::EGraph, theory::Vector{DynamicRule}, params::SaturationParams)\n",
      "    @ Metatheory.EGraphs C:\\Users\\jetti\\.julia\\packages\\Metatheory\\ooi9X\\src\\EGraphs\\saturation.jl:302\n",
      "  [9] saturate!(g::EGraph, theory::Vector{DynamicRule})\n",
      "    @ Metatheory.EGraphs C:\\Users\\jetti\\.julia\\packages\\Metatheory\\ooi9X\\src\\EGraphs\\saturation.jl:287\n",
      " [10] top-level scope\n",
      "    @ c:\\Users\\jetti\\github\\julia\\metatheoryTest.ipynb:1"
     ]
    }
   ],
   "source": [
    "saturate!(g, t);\n",
    "ex = extract!(g, astsize)"
   ]
  },
  {
   "cell_type": "code",
   "execution_count": 34,
   "metadata": {},
   "outputs": [
    {
     "data": {
      "text/plain": [
       "19-element Vector{AbstractRule}:\n",
       " (~p == ~q) == ~r == ~p == (~q == ~r)\n",
       " ~p == ~q == ~q == ~p\n",
       " ~q == ~q --> true\n",
       " !(~p == ~q) == !(~p) == ~q\n",
       " ~p != ~q == !(~p == ~q)\n",
       " (~p || ~q) || ~r == ~p || (~q || ~r)\n",
       " ~p || ~q == ~q || ~p\n",
       " ~p || ~p --> ~p\n",
       " ~p || ~q == ~r == ~p || (~q == ~p || ~r)\n",
       " ~p || !(~p) --> true\n",
       " !(~p || ~q) == !(~p) && !(~q)\n",
       " !(~p && ~q) == !(~p) || !(~q)\n",
       " ~p && ~q == (~p == ~q) == ~p || ~q\n",
       " ~p ⟹ ~q == (~p || ~q) == ~q\n",
       " ~(p::Bool) == ~(q::Bool) => p == q\n",
       " ~(p::Bool) || ~(q::Bool) => p || q\n",
       " ~(p::Bool) ⟹ ~(q::Bool) => (p || q) == q\n",
       " ~(p::Bool) && ~(q::Bool) => p && q\n",
       " !(~(p::Bool)) => !p"
      ]
     },
     "metadata": {},
     "output_type": "display_data"
    }
   ],
   "source": [
    "include(\"calculational_logic_theory.jl\")"
   ]
  },
  {
   "cell_type": "code",
   "execution_count": 61,
   "metadata": {},
   "outputs": [
    {
     "data": {
      "text/plain": [
       ":((2 * sin(z)) * cos(z))"
      ]
     },
     "metadata": {},
     "output_type": "display_data"
    }
   ],
   "source": [
    "using Metatheory\n",
    "\n",
    "r1 = @rule sin(2(~x)) --> 2sin(~x)*cos(~x)\n",
    "\n",
    "expr = :(sin(2z))\n",
    "r1(expr)"
   ]
  },
  {
   "cell_type": "code",
   "execution_count": 38,
   "metadata": {},
   "outputs": [
    {
     "data": {
      "text/plain": [
       "postprocess_maths (generic function with 1 method)"
      ]
     },
     "metadata": {},
     "output_type": "display_data"
    }
   ],
   "source": [
    "include(\"basic_maths_theory.jl\")"
   ]
  },
  {
   "cell_type": "code",
   "execution_count": 41,
   "metadata": {},
   "outputs": [
    {
     "data": {
      "image/svg+xml": [
       "<?xml version=\"1.0\" encoding=\"UTF-8\" standalone=\"no\"?>\n",
       "<!DOCTYPE svg PUBLIC \"-//W3C//DTD SVG 1.1//EN\"\n",
       " \"http://www.w3.org/Graphics/SVG/1.1/DTD/svg11.dtd\">\n",
       "<!-- Generated by graphviz version 2.50.0 (20211204.2007)\n",
       " -->\n",
       "<!-- Pages: 1 -->\n",
       "<svg width=\"1047pt\" height=\"398pt\"\n",
       " viewBox=\"0.00 0.00 1047.00 398.19\" xmlns=\"http://www.w3.org/2000/svg\" xmlns:xlink=\"http://www.w3.org/1999/xlink\">\n",
       "<g id=\"graph0\" class=\"graph\" transform=\"scale(1 1) rotate(0) translate(4 394.19)\">\n",
       "<polygon fill=\"white\" stroke=\"transparent\" points=\"-4,4 -4,-394.19 1043,-394.19 1043,4 -4,4\"/>\n",
       "<g id=\"clust1\" class=\"cluster\">\n",
       "<title>cluster_12</title>\n",
       "<path fill=\"none\" stroke=\"black\" stroke-dasharray=\"1,5\" d=\"M410,-111.19C410,-111.19 823,-111.19 823,-111.19 829,-111.19 835,-117.19 835,-123.19 835,-123.19 835,-168.19 835,-168.19 835,-174.19 829,-180.19 823,-180.19 823,-180.19 410,-180.19 410,-180.19 404,-180.19 398,-174.19 398,-168.19 398,-168.19 398,-123.19 398,-123.19 398,-117.19 404,-111.19 410,-111.19\"/>\n",
       "<text text-anchor=\"middle\" x=\"616.5\" y=\"-169.79\" font-family=\"Times New Roman,serif\" font-size=\"8.00\" fill=\"gray\">#12. Smallest: &#45;1</text>\n",
       "</g>\n",
       "<g id=\"clust2\" class=\"cluster\">\n",
       "<title>cluster_7</title>\n",
       "<path fill=\"none\" stroke=\"black\" stroke-dasharray=\"1,5\" d=\"M356,-313.19C356,-313.19 774,-313.19 774,-313.19 780,-313.19 786,-319.19 786,-325.19 786,-325.19 786,-370.19 786,-370.19 786,-376.19 780,-382.19 774,-382.19 774,-382.19 356,-382.19 356,-382.19 350,-382.19 344,-376.19 344,-370.19 344,-370.19 344,-325.19 344,-325.19 344,-319.19 350,-313.19 356,-313.19\"/>\n",
       "<text text-anchor=\"middle\" x=\"565\" y=\"-371.79\" font-family=\"Times New Roman,serif\" font-size=\"8.00\" fill=\"gray\">#7. Smallest: a &#45; a</text>\n",
       "</g>\n",
       "<g id=\"clust3\" class=\"cluster\">\n",
       "<title>cluster_4</title>\n",
       "<path fill=\"none\" stroke=\"black\" stroke-dasharray=\"1,5\" d=\"M20,-111.19C20,-111.19 378,-111.19 378,-111.19 384,-111.19 390,-117.19 390,-123.19 390,-123.19 390,-168.19 390,-168.19 390,-174.19 384,-180.19 378,-180.19 378,-180.19 20,-180.19 20,-180.19 14,-180.19 8,-174.19 8,-168.19 8,-168.19 8,-123.19 8,-123.19 8,-117.19 14,-111.19 20,-111.19\"/>\n",
       "<text text-anchor=\"middle\" x=\"199\" y=\"-169.79\" font-family=\"Times New Roman,serif\" font-size=\"8.00\" fill=\"gray\">#4. Smallest: a</text>\n",
       "</g>\n",
       "<g id=\"clust5\" class=\"cluster\">\n",
       "<title>cluster_10</title>\n",
       "<path fill=\"none\" stroke=\"black\" stroke-dasharray=\"1,5\" d=\"M633,-10.19C633,-10.19 1019,-10.19 1019,-10.19 1025,-10.19 1031,-16.19 1031,-22.19 1031,-22.19 1031,-67.19 1031,-67.19 1031,-73.19 1025,-79.19 1019,-79.19 1019,-79.19 633,-79.19 633,-79.19 627,-79.19 621,-73.19 621,-67.19 621,-67.19 621,-22.19 621,-22.19 621,-16.19 627,-10.19 633,-10.19\"/>\n",
       "<text text-anchor=\"middle\" x=\"826\" y=\"-68.79\" font-family=\"Times New Roman,serif\" font-size=\"8.00\" fill=\"gray\">#10. Smallest: 1</text>\n",
       "</g>\n",
       "<g id=\"clust4\" class=\"cluster\">\n",
       "<title>cluster_13</title>\n",
       "<path fill=\"none\" stroke=\"black\" stroke-dasharray=\"1,5\" d=\"M445,-212.19C445,-212.19 858,-212.19 858,-212.19 864,-212.19 870,-218.19 870,-224.19 870,-224.19 870,-269.19 870,-269.19 870,-275.19 864,-281.19 858,-281.19 858,-281.19 445,-281.19 445,-281.19 439,-281.19 433,-275.19 433,-269.19 433,-269.19 433,-224.19 433,-224.19 433,-218.19 439,-212.19 445,-212.19\"/>\n",
       "<text text-anchor=\"middle\" x=\"651.5\" y=\"-270.79\" font-family=\"Times New Roman,serif\" font-size=\"8.00\" fill=\"gray\">#13. Smallest: &#45;a</text>\n",
       "</g>\n",
       "<!-- 12.1 -->\n",
       "<g id=\"node1\" class=\"node\">\n",
       "<title>12.1</title>\n",
       "<path fill=\"none\" stroke=\"black\" d=\"M528,-155.19C528,-155.19 498,-155.19 498,-155.19 492,-155.19 486,-149.19 486,-143.19 486,-143.19 486,-131.19 486,-131.19 486,-125.19 492,-119.19 498,-119.19 498,-119.19 528,-119.19 528,-119.19 534,-119.19 540,-125.19 540,-131.19 540,-131.19 540,-143.19 540,-143.19 540,-149.19 534,-155.19 528,-155.19\"/>\n",
       "<text text-anchor=\"start\" x=\"507\" y=\"-133.49\" font-family=\"Times New Roman,serif\" font-size=\"14.00\">&#45;1</text>\n",
       "</g>\n",
       "<!-- 7.1 -->\n",
       "<g id=\"node2\" class=\"node\">\n",
       "<title>7.1</title>\n",
       "<path fill=\"none\" stroke=\"black\" d=\"M474,-357.19C474,-357.19 444,-357.19 444,-357.19 438,-357.19 432,-351.19 432,-345.19 432,-345.19 432,-333.19 432,-333.19 432,-327.19 438,-321.19 444,-321.19 444,-321.19 474,-321.19 474,-321.19 480,-321.19 486,-327.19 486,-333.19 486,-333.19 486,-345.19 486,-345.19 486,-351.19 480,-357.19 474,-357.19\"/>\n",
       "<text text-anchor=\"start\" x=\"454.5\" y=\"-335.49\" font-family=\"Times New Roman,serif\" font-size=\"14.00\">+</text>\n",
       "</g>\n",
       "<!-- 4.1 -->\n",
       "<g id=\"node7\" class=\"node\">\n",
       "<title>4.1</title>\n",
       "<path fill=\"none\" stroke=\"black\" d=\"M352,-155.19C352,-155.19 322,-155.19 322,-155.19 316,-155.19 310,-149.19 310,-143.19 310,-143.19 310,-131.19 310,-131.19 310,-125.19 316,-119.19 322,-119.19 322,-119.19 352,-119.19 352,-119.19 358,-119.19 364,-125.19 364,-131.19 364,-131.19 364,-143.19 364,-143.19 364,-149.19 358,-155.19 352,-155.19\"/>\n",
       "<text text-anchor=\"start\" x=\"333.5\" y=\"-133.49\" font-family=\"Times New Roman,serif\" font-size=\"14.00\">*</text>\n",
       "</g>\n",
       "<!-- 7.1&#45;&gt;4.1 -->\n",
       "<g id=\"edge1\" class=\"edge\">\n",
       "<title>7.1:sw&#45;&gt;4.1</title>\n",
       "<path fill=\"none\" stroke=\"black\" d=\"M432,-320.19C415.94,-304.13 410.98,-300.48 399,-281.19 380.18,-250.88 364.31,-213.87 353.33,-185.09\"/>\n",
       "<polygon fill=\"black\" stroke=\"black\" points=\"354.88,-184.24 351.47,-180.19 351.6,-185.48 354.88,-184.24\"/>\n",
       "</g>\n",
       "<!-- 13.1 -->\n",
       "<g id=\"node8\" class=\"node\">\n",
       "<title>13.1</title>\n",
       "<path fill=\"none\" stroke=\"black\" d=\"M555,-256.19C555,-256.19 525,-256.19 525,-256.19 519,-256.19 513,-250.19 513,-244.19 513,-244.19 513,-232.19 513,-232.19 513,-226.19 519,-220.19 525,-220.19 525,-220.19 555,-220.19 555,-220.19 561,-220.19 567,-226.19 567,-232.19 567,-232.19 567,-244.19 567,-244.19 567,-250.19 561,-256.19 555,-256.19\"/>\n",
       "<text text-anchor=\"start\" x=\"536.5\" y=\"-234.49\" font-family=\"Times New Roman,serif\" font-size=\"14.00\">*</text>\n",
       "</g>\n",
       "<!-- 7.1&#45;&gt;13.1 -->\n",
       "<g id=\"edge2\" class=\"edge\">\n",
       "<title>7.1:se&#45;&gt;13.1</title>\n",
       "<path fill=\"none\" stroke=\"black\" d=\"M486,-320.19C496.2,-309.99 505.6,-297.59 513.6,-285.58\"/>\n",
       "<polygon fill=\"black\" stroke=\"black\" points=\"515.21,-286.33 516.49,-281.18 512.28,-284.41 515.21,-286.33\"/>\n",
       "</g>\n",
       "<!-- 7.2 -->\n",
       "<g id=\"node3\" class=\"node\">\n",
       "<title>7.2</title>\n",
       "<path fill=\"none\" stroke=\"black\" d=\"M394,-357.19C394,-357.19 364,-357.19 364,-357.19 358,-357.19 352,-351.19 352,-345.19 352,-345.19 352,-333.19 352,-333.19 352,-327.19 358,-321.19 364,-321.19 364,-321.19 394,-321.19 394,-321.19 400,-321.19 406,-327.19 406,-333.19 406,-333.19 406,-345.19 406,-345.19 406,-351.19 400,-357.19 394,-357.19\"/>\n",
       "<text text-anchor=\"start\" x=\"376.5\" y=\"-335.49\" font-family=\"Times New Roman,serif\" font-size=\"14.00\">&#45;</text>\n",
       "</g>\n",
       "<!-- 7.2&#45;&gt;4.1 -->\n",
       "<g id=\"edge3\" class=\"edge\">\n",
       "<title>7.2:sw&#45;&gt;4.1</title>\n",
       "<path fill=\"none\" stroke=\"black\" d=\"M352,-320.19C317.41,-285.59 319.07,-226.57 325.85,-185.15\"/>\n",
       "<polygon fill=\"black\" stroke=\"black\" points=\"327.58,-185.41 326.7,-180.18 324.13,-184.82 327.58,-185.41\"/>\n",
       "</g>\n",
       "<!-- 7.2&#45;&gt;4.1 -->\n",
       "<g id=\"edge4\" class=\"edge\">\n",
       "<title>7.2:se&#45;&gt;4.1</title>\n",
       "<path fill=\"none\" stroke=\"black\" d=\"M406,-320.19C411.06,-315.13 379.21,-237.07 357.08,-184.84\"/>\n",
       "<polygon fill=\"black\" stroke=\"black\" points=\"358.67,-184.11 355.11,-180.19 355.45,-185.47 358.67,-184.11\"/>\n",
       "</g>\n",
       "<!-- 7.3 -->\n",
       "<g id=\"node4\" class=\"node\">\n",
       "<title>7.3</title>\n",
       "<path fill=\"none\" stroke=\"black\" d=\"M676,-357.19C676,-357.19 646,-357.19 646,-357.19 640,-357.19 634,-351.19 634,-345.19 634,-345.19 634,-333.19 634,-333.19 634,-327.19 640,-321.19 646,-321.19 646,-321.19 676,-321.19 676,-321.19 682,-321.19 688,-327.19 688,-333.19 688,-333.19 688,-345.19 688,-345.19 688,-351.19 682,-357.19 676,-357.19\"/>\n",
       "<text text-anchor=\"start\" x=\"657.5\" y=\"-335.49\" font-family=\"Times New Roman,serif\" font-size=\"14.00\">*</text>\n",
       "</g>\n",
       "<!-- 7.3&#45;&gt;7.3 -->\n",
       "<g id=\"edge6\" class=\"edge\">\n",
       "<title>7.3:se&#45;&gt;7.3</title>\n",
       "<path fill=\"none\" stroke=\"black\" d=\"M688,-321.19C694,-296.19 706,-296.19 706,-330.19 706,-344.43 700.73,-352.71 693.51,-355.68\"/>\n",
       "<polygon fill=\"black\" stroke=\"black\" points=\"692.72,-354.07 688.24,-356.9 693.51,-357.48 692.72,-354.07\"/>\n",
       "</g>\n",
       "<!-- 10.1 -->\n",
       "<g id=\"node9\" class=\"node\">\n",
       "<title>10.1</title>\n",
       "<path fill=\"none\" stroke=\"black\" d=\"M868,-54.19C868,-54.19 838,-54.19 838,-54.19 832,-54.19 826,-48.19 826,-42.19 826,-42.19 826,-30.19 826,-30.19 826,-24.19 832,-18.19 838,-18.19 838,-18.19 868,-18.19 868,-18.19 874,-18.19 880,-24.19 880,-30.19 880,-30.19 880,-42.19 880,-42.19 880,-48.19 874,-54.19 868,-54.19\"/>\n",
       "<text text-anchor=\"start\" x=\"849.5\" y=\"-32.49\" font-family=\"Times New Roman,serif\" font-size=\"14.00\">*</text>\n",
       "</g>\n",
       "<!-- 7.3&#45;&gt;10.1 -->\n",
       "<g id=\"edge5\" class=\"edge\">\n",
       "<title>7.3:sw&#45;&gt;10.1</title>\n",
       "<path fill=\"none\" stroke=\"black\" d=\"M634,-320.19C557.59,-243.77 803.98,-363.5 874,-281.19 920.45,-226.58 896.6,-138.06 874.91,-83.99\"/>\n",
       "<polygon fill=\"black\" stroke=\"black\" points=\"876.46,-83.16 872.95,-79.19 873.22,-84.48 876.46,-83.16\"/>\n",
       "</g>\n",
       "<!-- 7.4 -->\n",
       "<g id=\"node5\" class=\"node\">\n",
       "<title>7.4</title>\n",
       "<path fill=\"none\" stroke=\"black\" d=\"M575,-357.19C575,-357.19 545,-357.19 545,-357.19 539,-357.19 533,-351.19 533,-345.19 533,-345.19 533,-333.19 533,-333.19 533,-327.19 539,-321.19 545,-321.19 545,-321.19 575,-321.19 575,-321.19 581,-321.19 587,-327.19 587,-333.19 587,-333.19 587,-345.19 587,-345.19 587,-351.19 581,-357.19 575,-357.19\"/>\n",
       "<text text-anchor=\"start\" x=\"555.5\" y=\"-335.49\" font-family=\"Times New Roman,serif\" font-size=\"14.00\">+</text>\n",
       "</g>\n",
       "<!-- 7.4&#45;&gt;4.1 -->\n",
       "<g id=\"edge8\" class=\"edge\">\n",
       "<title>7.4:se&#45;&gt;4.1</title>\n",
       "<path fill=\"none\" stroke=\"black\" d=\"M587,-320.19C638.14,-269.04 485.09,-326.86 429,-281.19 402.64,-259.72 414.05,-241 396,-212.19 390.19,-202.91 383.4,-193.44 376.54,-184.52\"/>\n",
       "<polygon fill=\"black\" stroke=\"black\" points=\"377.63,-183.06 373.18,-180.19 374.86,-185.21 377.63,-183.06\"/>\n",
       "</g>\n",
       "<!-- 7.4&#45;&gt;13.1 -->\n",
       "<g id=\"edge7\" class=\"edge\">\n",
       "<title>7.4:sw&#45;&gt;13.1</title>\n",
       "<path fill=\"none\" stroke=\"black\" d=\"M533,-320.19C524.09,-311.28 522.25,-298.74 523.62,-286.18\"/>\n",
       "<polygon fill=\"black\" stroke=\"black\" points=\"525.36,-286.38 524.33,-281.19 521.89,-285.89 525.36,-286.38\"/>\n",
       "</g>\n",
       "<!-- 7.5 -->\n",
       "<g id=\"node6\" class=\"node\">\n",
       "<title>7.5</title>\n",
       "<path fill=\"none\" stroke=\"black\" d=\"M766,-357.19C766,-357.19 736,-357.19 736,-357.19 730,-357.19 724,-351.19 724,-345.19 724,-345.19 724,-333.19 724,-333.19 724,-327.19 730,-321.19 736,-321.19 736,-321.19 766,-321.19 766,-321.19 772,-321.19 778,-327.19 778,-333.19 778,-333.19 778,-345.19 778,-345.19 778,-351.19 772,-357.19 766,-357.19\"/>\n",
       "<text text-anchor=\"start\" x=\"747.5\" y=\"-335.49\" font-family=\"Times New Roman,serif\" font-size=\"14.00\">*</text>\n",
       "</g>\n",
       "<!-- 7.5&#45;&gt;7.5 -->\n",
       "<g id=\"edge9\" class=\"edge\">\n",
       "<title>7.5:sw&#45;&gt;7.5</title>\n",
       "<path fill=\"none\" stroke=\"black\" d=\"M724,-321.19C718,-296.19 706,-296.19 706,-330.19 706,-344.43 711.27,-352.71 718.49,-355.68\"/>\n",
       "<polygon fill=\"black\" stroke=\"black\" points=\"718.49,-357.48 723.76,-356.9 719.28,-354.07 718.49,-357.48\"/>\n",
       "</g>\n",
       "<!-- 7.5&#45;&gt;10.1 -->\n",
       "<g id=\"edge10\" class=\"edge\">\n",
       "<title>7.5:se&#45;&gt;10.1</title>\n",
       "<path fill=\"none\" stroke=\"black\" d=\"M778,-320.19C819.75,-278.44 869.91,-328.67 905,-281.19 949.9,-220.42 927.78,-183.23 905,-111.19 901.97,-101.59 897.19,-92.17 891.74,-83.42\"/>\n",
       "<polygon fill=\"black\" stroke=\"black\" points=\"893.19,-82.44 889.01,-79.19 890.25,-84.34 893.19,-82.44\"/>\n",
       "</g>\n",
       "<!-- 4.1&#45;&gt;4.1 -->\n",
       "<g id=\"edge12\" class=\"edge\">\n",
       "<title>4.1:se&#45;&gt;4.1</title>\n",
       "<path fill=\"none\" stroke=\"black\" d=\"M364,-119.19C370,-94.19 382,-94.19 382,-128.19 382,-142.43 376.73,-150.71 369.51,-153.68\"/>\n",
       "<polygon fill=\"black\" stroke=\"black\" points=\"368.72,-152.07 364.24,-154.9 369.51,-155.48 368.72,-152.07\"/>\n",
       "</g>\n",
       "<!-- 4.1&#45;&gt;10.1 -->\n",
       "<g id=\"edge11\" class=\"edge\">\n",
       "<title>4.1:sw&#45;&gt;10.1</title>\n",
       "<path fill=\"none\" stroke=\"black\" d=\"M310,-118.19C240.97,-49.16 644.95,-101.57 749.94,-80.33\"/>\n",
       "<polygon fill=\"black\" stroke=\"black\" points=\"750.51,-81.99 755,-79.19 749.74,-78.58 750.51,-81.99\"/>\n",
       "</g>\n",
       "<!-- 13.1&#45;&gt;12.1 -->\n",
       "<g id=\"edge15\" class=\"edge\">\n",
       "<title>13.1:sw&#45;&gt;12.1</title>\n",
       "<path fill=\"none\" stroke=\"black\" d=\"M513,-219.19C504.12,-210.3 501.43,-197.76 501.7,-185.18\"/>\n",
       "<polygon fill=\"black\" stroke=\"black\" points=\"503.45,-185.27 501.96,-180.19 499.96,-185.09 503.45,-185.27\"/>\n",
       "</g>\n",
       "<!-- 13.1&#45;&gt;4.1 -->\n",
       "<g id=\"edge16\" class=\"edge\">\n",
       "<title>13.1:se&#45;&gt;4.1</title>\n",
       "<path fill=\"none\" stroke=\"black\" d=\"M567,-219.19C621.54,-164.65 472.35,-210.85 394.99,-180.38\"/>\n",
       "<polygon fill=\"black\" stroke=\"black\" points=\"395.28,-178.6 390,-178.26 393.92,-181.83 395.28,-178.6\"/>\n",
       "</g>\n",
       "<!-- 10.1&#45;&gt;10.1 -->\n",
       "<g id=\"edge20\" class=\"edge\">\n",
       "<title>10.1:sw&#45;&gt;10.1</title>\n",
       "<path fill=\"none\" stroke=\"black\" d=\"M826,-18.19C820,6.81 808,6.81 808,-27.19 808,-41.43 813.27,-49.71 820.49,-52.68\"/>\n",
       "<polygon fill=\"black\" stroke=\"black\" points=\"820.49,-54.48 825.76,-53.9 821.28,-51.07 820.49,-54.48\"/>\n",
       "</g>\n",
       "<!-- 10.1&#45;&gt;10.1 -->\n",
       "<g id=\"edge21\" class=\"edge\">\n",
       "<title>10.1:se&#45;&gt;10.1</title>\n",
       "<path fill=\"none\" stroke=\"black\" d=\"M880,-18.19C886,6.81 898,6.81 898,-27.19 898,-41.43 892.73,-49.71 885.51,-52.68\"/>\n",
       "<polygon fill=\"black\" stroke=\"black\" points=\"884.72,-51.07 880.24,-53.9 885.51,-54.48 884.72,-51.07\"/>\n",
       "</g>\n",
       "<!-- 4.2 -->\n",
       "<g id=\"node10\" class=\"node\">\n",
       "<title>4.2</title>\n",
       "<path fill=\"none\" stroke=\"black\" d=\"M280,-155.19C280,-155.19 250,-155.19 250,-155.19 244,-155.19 238,-149.19 238,-143.19 238,-143.19 238,-131.19 238,-131.19 238,-125.19 244,-119.19 250,-119.19 250,-119.19 280,-119.19 280,-119.19 286,-119.19 292,-125.19 292,-131.19 292,-131.19 292,-143.19 292,-143.19 292,-149.19 286,-155.19 280,-155.19\"/>\n",
       "<text text-anchor=\"start\" x=\"261.5\" y=\"-133.49\" font-family=\"Times New Roman,serif\" font-size=\"14.00\">a</text>\n",
       "</g>\n",
       "<!-- 4.3 -->\n",
       "<g id=\"node11\" class=\"node\">\n",
       "<title>4.3</title>\n",
       "<path fill=\"none\" stroke=\"black\" d=\"M208,-155.19C208,-155.19 178,-155.19 178,-155.19 172,-155.19 166,-149.19 166,-143.19 166,-143.19 166,-131.19 166,-131.19 166,-125.19 172,-119.19 178,-119.19 178,-119.19 208,-119.19 208,-119.19 214,-119.19 220,-125.19 220,-131.19 220,-131.19 220,-143.19 220,-143.19 220,-149.19 214,-155.19 208,-155.19\"/>\n",
       "<text text-anchor=\"start\" x=\"189.5\" y=\"-133.49\" font-family=\"Times New Roman,serif\" font-size=\"14.00\">*</text>\n",
       "</g>\n",
       "<!-- 4.3&#45;&gt;10.1 -->\n",
       "<g id=\"edge14\" class=\"edge\">\n",
       "<title>4.3:se&#45;&gt;10.1</title>\n",
       "<path fill=\"none\" stroke=\"black\" d=\"M220,-118.19C223.58,-114.6 224.26,-112.98 229,-111.19 336.96,-70.44 632.23,-105.16 749.87,-80.33\"/>\n",
       "<polygon fill=\"black\" stroke=\"black\" points=\"750.5,-81.99 755,-79.19 749.74,-78.57 750.5,-81.99\"/>\n",
       "</g>\n",
       "<!-- 4.3&#45;&gt;4.3 -->\n",
       "<g id=\"edge13\" class=\"edge\">\n",
       "<title>4.3:sw&#45;&gt;4.3</title>\n",
       "<path fill=\"none\" stroke=\"black\" d=\"M166,-119.19C160,-94.19 148,-94.19 148,-128.19 148,-142.43 153.27,-150.71 160.49,-153.68\"/>\n",
       "<polygon fill=\"black\" stroke=\"black\" points=\"160.49,-155.48 165.76,-154.9 161.28,-152.07 160.49,-155.48\"/>\n",
       "</g>\n",
       "<!-- 13.2 -->\n",
       "<g id=\"node12\" class=\"node\">\n",
       "<title>13.2</title>\n",
       "<path fill=\"none\" stroke=\"black\" d=\"M483,-256.19C483,-256.19 453,-256.19 453,-256.19 447,-256.19 441,-250.19 441,-244.19 441,-244.19 441,-232.19 441,-232.19 441,-226.19 447,-220.19 453,-220.19 453,-220.19 483,-220.19 483,-220.19 489,-220.19 495,-226.19 495,-232.19 495,-232.19 495,-244.19 495,-244.19 495,-250.19 489,-256.19 483,-256.19\"/>\n",
       "<text text-anchor=\"start\" x=\"465.5\" y=\"-234.49\" font-family=\"Times New Roman,serif\" font-size=\"14.00\">&#45;</text>\n",
       "</g>\n",
       "<!-- 13.2&#45;&gt;4.1 -->\n",
       "<g id=\"edge17\" class=\"edge\">\n",
       "<title>13.2&#45;&gt;4.1</title>\n",
       "<path fill=\"none\" stroke=\"black\" d=\"M445.48,-220.17C431.28,-209.44 412.25,-195.06 394.1,-181.34\"/>\n",
       "<polygon fill=\"black\" stroke=\"black\" points=\"395.04,-179.86 390,-178.24 392.93,-182.65 395.04,-179.86\"/>\n",
       "</g>\n",
       "<!-- 13.3 -->\n",
       "<g id=\"node13\" class=\"node\">\n",
       "<title>13.3</title>\n",
       "<path fill=\"none\" stroke=\"black\" d=\"M832,-256.19C832,-256.19 802,-256.19 802,-256.19 796,-256.19 790,-250.19 790,-244.19 790,-244.19 790,-232.19 790,-232.19 790,-226.19 796,-220.19 802,-220.19 802,-220.19 832,-220.19 832,-220.19 838,-220.19 844,-226.19 844,-232.19 844,-232.19 844,-244.19 844,-244.19 844,-250.19 838,-256.19 832,-256.19\"/>\n",
       "<text text-anchor=\"start\" x=\"813.5\" y=\"-234.49\" font-family=\"Times New Roman,serif\" font-size=\"14.00\">*</text>\n",
       "</g>\n",
       "<!-- 13.3&#45;&gt;10.1 -->\n",
       "<g id=\"edge18\" class=\"edge\">\n",
       "<title>13.3:sw&#45;&gt;10.1</title>\n",
       "<path fill=\"none\" stroke=\"black\" d=\"M790,-219.19C770.32,-199.51 825.7,-204.64 839,-180.19 854.81,-151.12 857.99,-113.78 857.39,-84.55\"/>\n",
       "<polygon fill=\"black\" stroke=\"black\" points=\"859.13,-84.13 857.24,-79.19 855.63,-84.23 859.13,-84.13\"/>\n",
       "</g>\n",
       "<!-- 13.3&#45;&gt;13.3 -->\n",
       "<g id=\"edge19\" class=\"edge\">\n",
       "<title>13.3:se&#45;&gt;13.3</title>\n",
       "<path fill=\"none\" stroke=\"black\" d=\"M844,-220.19C850,-195.19 862,-195.19 862,-229.19 862,-243.43 856.73,-251.71 849.51,-254.68\"/>\n",
       "<polygon fill=\"black\" stroke=\"black\" points=\"848.72,-253.07 844.24,-255.9 849.51,-256.48 848.72,-253.07\"/>\n",
       "</g>\n",
       "<!-- 10.2 -->\n",
       "<g id=\"node14\" class=\"node\">\n",
       "<title>10.2</title>\n",
       "<path fill=\"none\" stroke=\"black\" d=\"M734,-54.19C734,-54.19 704,-54.19 704,-54.19 698,-54.19 692,-48.19 692,-42.19 692,-42.19 692,-30.19 692,-30.19 692,-24.19 698,-18.19 704,-18.19 704,-18.19 734,-18.19 734,-18.19 740,-18.19 746,-24.19 746,-30.19 746,-30.19 746,-42.19 746,-42.19 746,-48.19 740,-54.19 734,-54.19\"/>\n",
       "<text text-anchor=\"start\" x=\"715.5\" y=\"-32.49\" font-family=\"Times New Roman,serif\" font-size=\"14.00\">1</text>\n",
       "</g>\n",
       "</g>\n",
       "</svg>\n"
      ],
      "text/plain": [
       "EGraph(IntDisjointSet([4, 7, 10, -4, 7, 13, -7, 7, 4, -2, 13, -1, -3, 7, 7, 7, 4], Base.RefValue{Bool}(true)), Dict{Int64, EClass}(12 => EClass 12 ([-1], NamedTuple()), 7 => EClass 7 ([ENode(call, +, Expr, [4, 13]), ENode(call, -, Expr, [4, 4]), ENode(call, *, Expr, [10, 7]), ENode(call, +, Expr, [13, 4]), ENode(call, *, Expr, [7, 10])], NamedTuple()), 4 => EClass 4 ([ENode(call, *, Expr, [10, 4]), a, ENode(call, *, Expr, [4, 10])], NamedTuple()), 13 => EClass 13 ([ENode(call, *, Expr, [12, 4]), ENode(call, -, Expr, [4]), ENode(call, *, Expr, [10, 13])], NamedTuple()), 10 => EClass 10 ([ENode(call, *, Expr, [10, 10]), 1], NamedTuple())), Dict{AbstractENode, Int64}(ENode(call, -, Expr, [4, 4]) => 7, ENode(call, -, Expr, [4]) => 13, ENode(call, -, Expr, [4, 4]) => 2, ENode(call, -, Expr, [4]) => 6, ENode(call, +, Expr, [4, 13]) => 7, ENode(call, +, Expr, [13, 4]) => 15, ENode(call, +, Expr, [4, 13]) => 14, ENode(call, *, Expr, [4, 10]) => 4, 1 => 3, ENode(call, *, Expr, [7, 10]) => 8…), Int64[], 7, Dict{Union{Function, Symbol}, Union{Function, Symbol}}(), Dict{Any, Vector{Int64}}(:a => [1], :+ => [7, 14, 15], -1 => [12], :- => [2, 6], :* => [4, 5, 8, 9, 10, 11, 13, 16, 17], 1 => [3]), Expr, Dict{Tuple{Any, Int64}, Type}(), 5, 0, false, Base.ImmutableDict{Int64, Tuple{Int64, Int64}}[], Tuple{Int64, Int64}[], ReentrantLock(nothing, 0x00000000, 0x00, Base.GenericCondition{Base.Threads.SpinLock}(Base.IntrusiveLinkedList{Task}(nothing, nothing), Base.Threads.SpinLock(0)), (0, 0, 431791924477)))"
      ]
     },
     "metadata": {},
     "output_type": "display_data"
    },
    {
     "name": "stderr",
     "output_type": "stream",
     "text": [
      "Warning: 7.3 -> 7.3: tail is inside head cluster cluster_7\n",
      "Warning: 7.5 -> 7.5: tail is inside head cluster cluster_7\n",
      "Warning: 4.1 -> 4.1: tail is inside head cluster cluster_4\n",
      "Warning: 10.1 -> 10.1: tail is inside head cluster cluster_10\n",
      "Warning: 10.1 -> 10.1: tail is inside head cluster cluster_10\n",
      "Warning: 4.3 -> 4.3: tail is inside head cluster cluster_4\n",
      "Warning: 13.3 -> 13.3: tail is inside head cluster cluster_13\n"
     ]
    }
   ],
   "source": [
    "using GraphViz\n",
    "\n",
    "include(dirname(pathof(Metatheory)) * \"/extras/graphviz.jl\")\n",
    "\n",
    "algebra_rules = @theory a b c begin\n",
    "  a * (b * c) == (a * b) * c\n",
    "  a + (b + c) == (a + b) + c\n",
    "\n",
    "  a + b == b + a\n",
    "  a * (b + c) == (a * b) + (a * c)\n",
    "  (a + b) * c == (a * c) + (b * c)\n",
    "\n",
    "  -a == -1 * a\n",
    "  a - b == a + -b\n",
    "  1 * a == a\n",
    "\n",
    "  0 * a --> 0\n",
    "  a + 0 --> a\n",
    "\n",
    "  a::Number * b == b * a::Number\n",
    "  a::Number * b::Number => a * b\n",
    "  a::Number + b::Number => a + b\n",
    "end;\n",
    "\n",
    "ex = :(a - a)\n",
    "g = EGraph(ex)\n",
    "params = SaturationParams(; timeout = 2)\n",
    "saturate!(g, algebra_rules, params)\n",
    "g"
   ]
  },
  {
   "cell_type": "code",
   "execution_count": 69,
   "metadata": {},
   "outputs": [
    {
     "data": {
      "text/plain": [
       "1-element Vector{RewriteRule}:\n",
       " a --> b"
      ]
     },
     "metadata": {},
     "output_type": "display_data"
    }
   ],
   "source": [
    "test = @theory begin\n",
    "    :a --> :b\n",
    "end"
   ]
  },
  {
   "cell_type": "code",
   "execution_count": 14,
   "metadata": {},
   "outputs": [
    {
     "ename": "MethodError",
     "evalue": "MethodError: no method matching saturate!(::EGraph, ::Int64)\n\nClosest candidates are:\n  saturate!(::EGraph, !Matched::Vector{<:AbstractRule}, !Matched::Any)\n   @ Metatheory C:\\Users\\jetti\\.julia\\packages\\Metatheory\\ooi9X\\src\\EGraphs\\saturation.jl:286\n  saturate!(::EGraph, !Matched::Vector{<:AbstractRule})\n   @ Metatheory C:\\Users\\jetti\\.julia\\packages\\Metatheory\\ooi9X\\src\\EGraphs\\saturation.jl:286\n",
     "output_type": "error",
     "traceback": [
      "MethodError: no method matching saturate!(::EGraph, ::Int64)\n",
      "\n",
      "Closest candidates are:\n",
      "  saturate!(::EGraph, !Matched::Vector{<:AbstractRule}, !Matched::Any)\n",
      "   @ Metatheory C:\\Users\\jetti\\.julia\\packages\\Metatheory\\ooi9X\\src\\EGraphs\\saturation.jl:286\n",
      "  saturate!(::EGraph, !Matched::Vector{<:AbstractRule})\n",
      "   @ Metatheory C:\\Users\\jetti\\.julia\\packages\\Metatheory\\ooi9X\\src\\EGraphs\\saturation.jl:286\n",
      "\n",
      "\n",
      "Stacktrace:\n",
      " [1] top-level scope\n",
      "   @ c:\\Users\\jetti\\github\\julia\\metatheoryTest.ipynb:3"
     ]
    }
   ],
   "source": [
    "#ex = :(0)\n",
    "g = EGraph(:a)\n",
    "saturate!(g, test)\n",
    "extract!(g, astsize)"
   ]
  }
 ],
 "metadata": {
  "kernelspec": {
   "display_name": "Julia 1.10.2",
   "language": "julia",
   "name": "julia-1.10"
  },
  "language_info": {
   "file_extension": ".jl",
   "mimetype": "application/julia",
   "name": "julia",
   "version": "1.10.2"
  }
 },
 "nbformat": 4,
 "nbformat_minor": 4
}
