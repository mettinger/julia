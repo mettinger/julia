{
 "cells": [
  {
   "cell_type": "code",
   "execution_count": 1,
   "metadata": {},
   "outputs": [],
   "source": [
    "using Metatheory\n",
    "using Metatheory.EGraphs\n",
    "using Metatheory.Library"
   ]
  },
  {
   "cell_type": "code",
   "execution_count": 2,
   "metadata": {},
   "outputs": [],
   "source": [
    "struct Category\n",
    "    src::Dict\n",
    "    target::Dict\n",
    "    relations\n",
    "end"
   ]
  },
  {
   "cell_type": "code",
   "execution_count": 43,
   "metadata": {},
   "outputs": [],
   "source": [
    "src = Dict(:f => 0, :g => 1, :h => 2, :i => 0, :k => 1, :m => 0, :n => 0)\n",
    "target = Dict(:f => 1, :g => 2, :h => 3, :i => 2, :k => 3, :m => 3, :n => 3)\n",
    "\n",
    "relations = @theory f begin\n",
    "    1 ∘ f == f \n",
    "    f ∘ 1 == f\n",
    "\n",
    "    :g ∘ :f == :i \n",
    "    :h ∘ :g == :k\n",
    "    :h ∘ :i == :m \n",
    "    #:k ∘ :f == :m \n",
    "    \n",
    "end\n",
    "\n",
    "myCat = Category(src, target, relations);"
   ]
  },
  {
   "cell_type": "code",
   "execution_count": 44,
   "metadata": {},
   "outputs": [],
   "source": [
    "function simplifyComposition(i, j, c::Category)\n",
    "    expression = :($j ∘ $i) \n",
    "\n",
    "    g = EGraph(expression)\n",
    "    saturate!(g, c.relations)\n",
    "    simplified = extract!(g, astsize)\n",
    "    return simplified\n",
    "end\n",
    "\n",
    "function checkAssociativity(c::Category, debug = false)\n",
    "    morphisms = keys(c.src)\n",
    " \n",
    "    for i in morphisms\n",
    "        for j in morphisms\n",
    "            for k in morphisms\n",
    "                if (c.target[i] == c.src[j]) && (c.target[j] == c.src[k])\n",
    "                    leftAssocLeft = simplifyComposition(i, j, c)\n",
    "                    leftAssoc = simplifyComposition(leftAssocLeft, k, c)\n",
    "                    rightAssocRight = simplifyComposition(j, k, c)\n",
    "                    rightAssoc = simplifyComposition(i, rightAssocRight, c)\n",
    "                    if leftAssoc != rightAssoc\n",
    "                        if debug\n",
    "                            println(i,j,k)\n",
    "                            println(leftAssocLeft)\n",
    "                            println(leftAssoc)\n",
    "                            println(rightAssocRight)\n",
    "                            println(rightAssoc)\n",
    "                        end\n",
    "\n",
    "                        return false\n",
    "                    end\n",
    "                end\n",
    "            end\n",
    "        end\n",
    "    end\n",
    "\n",
    "    return true\n",
    "end;\n",
    "\n",
    "function checkComposition(c::Category, debug=false)\n",
    "    #objects = union(Set(values(c.src)), Set(values(c.target)))\n",
    "    morphisms = keys(c.src)\n",
    "    leftSides = Set([string(thisEquality.left) for thisEquality in c.relations])\n",
    "\n",
    "    for i in morphisms\n",
    "        for j in morphisms\n",
    "            if c.target[i] == c.src[j]\n",
    "                thisComposition = :($j ∘ $i)\n",
    "                if !in(string(thisComposition), leftSides)\n",
    "                    if debug\n",
    "                        println(i,j)\n",
    "                    end\n",
    "                    return false\n",
    "                end\n",
    "            end\n",
    "        end\n",
    "    end\n",
    "    return true\n",
    " end;"
   ]
  },
  {
   "cell_type": "code",
   "execution_count": 47,
   "metadata": {},
   "outputs": [
    {
     "name": "stdout",
     "output_type": "stream",
     "text": [
      "fk\n"
     ]
    },
    {
     "data": {
      "text/plain": [
       "false"
      ]
     },
     "metadata": {},
     "output_type": "display_data"
    }
   ],
   "source": [
    "checkComposition(myCat, true)"
   ]
  },
  {
   "cell_type": "code",
   "execution_count": 35,
   "metadata": {},
   "outputs": [
    {
     "data": {
      "text/plain": [
       "g ∘ f == i"
      ]
     },
     "metadata": {},
     "output_type": "display_data"
    }
   ],
   "source": [
    "temp = myCat.relations[3]"
   ]
  },
  {
   "cell_type": "code",
   "execution_count": 31,
   "metadata": {},
   "outputs": [
    {
     "data": {
      "text/plain": [
       "g ∘ f"
      ]
     },
     "metadata": {},
     "output_type": "display_data"
    }
   ],
   "source": [
    "temp2 = temp.left"
   ]
  },
  {
   "cell_type": "code",
   "execution_count": 33,
   "metadata": {},
   "outputs": [
    {
     "data": {
      "text/plain": [
       "\"g ∘ f\""
      ]
     },
     "metadata": {},
     "output_type": "display_data"
    }
   ],
   "source": [
    "string(temp2)"
   ]
  },
  {
   "cell_type": "code",
   "execution_count": 18,
   "metadata": {},
   "outputs": [
    {
     "data": {
      "text/plain": [
       "true"
      ]
     },
     "metadata": {},
     "output_type": "display_data"
    }
   ],
   "source": [
    "checkAssociativity(myCat, true)"
   ]
  },
  {
   "cell_type": "code",
   "execution_count": 16,
   "metadata": {},
   "outputs": [],
   "source": [
    "using NBInclude\n",
    "nbexport(\"categories.jl\", \"categories.ipynb\")"
   ]
  },
  {
   "cell_type": "code",
   "execution_count": null,
   "metadata": {},
   "outputs": [],
   "source": [
    "function checkComposition(c::Category)\n",
    "    objects = union(Set(values(c.src)), Set(values(c.target)))\n",
    "    morphisms = keys(c.src)\n",
    " \n",
    "    for i in morphisms\n",
    "     for j in morphisms\n",
    "         if target[i] == src[j]\n",
    "             thisComposition = :($j ∘ $i)\n",
    "             println(thisComposition)\n",
    "             for rule in c.relations\n",
    "                 println(rule.left)\n",
    "                 if rule.left == thisComposition\n",
    "                     continue\n",
    "                 end\n",
    "             end\n",
    "         end\n",
    "     end\n",
    "    end\n",
    " end"
   ]
  }
 ],
 "metadata": {
  "kernelspec": {
   "display_name": "Julia 1.10.2",
   "language": "julia",
   "name": "julia-1.10"
  },
  "language_info": {
   "file_extension": ".jl",
   "mimetype": "application/julia",
   "name": "julia",
   "version": "1.10.2"
  }
 },
 "nbformat": 4,
 "nbformat_minor": 4
}
