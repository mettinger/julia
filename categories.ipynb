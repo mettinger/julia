{
 "cells": [
  {
   "cell_type": "code",
   "execution_count": 1,
   "metadata": {},
   "outputs": [],
   "source": [
    "using Metatheory\n",
    "using Metatheory.EGraphs\n",
    "using Metatheory.Library"
   ]
  },
  {
   "cell_type": "code",
   "execution_count": 2,
   "metadata": {},
   "outputs": [],
   "source": [
    "struct Category\n",
    "    src::Dict\n",
    "    target::Dict\n",
    "    relations\n",
    "end"
   ]
  },
  {
   "cell_type": "code",
   "execution_count": 3,
   "metadata": {},
   "outputs": [],
   "source": [
    "# Initialize a category and test it \n",
    "function categoryInit(src::Dict, target::Dict, relations)\n",
    "\n",
    "    identity = @theory f begin\n",
    "        1 ∘ f == f \n",
    "        f ∘ 1 == f\n",
    "    end\n",
    "    \n",
    "    cat = Category(src, target, relations ∪ identity);\n",
    "    if checkComposability(cat, true)\n",
    "        if checkComposition(cat, true)\n",
    "            if checkAssociativity(cat, true)\n",
    "                return cat\n",
    "            end\n",
    "        end\n",
    "    end\n",
    "end;\n",
    "\n",
    "Check that all the composables defined by equations have matching targets and sources.\n",
    "function checkComposability(c::Category, debug::Bool=false)\n",
    "    for thisEquality in c.relations\n",
    "        second, first = thisEquality.left.args \n",
    "\n",
    "        # ignore identity relations \n",
    "        if second === 1 || first === 1\n",
    "            continue\n",
    "        end\n",
    "        \n",
    "        if c.src[second] != c.target[first]\n",
    "            if debug\n",
    "                println(\"composability violation\")\n",
    "                println(first,second)\n",
    "                println(\" \")\n",
    "            end\n",
    "            return false\n",
    "        end\n",
    "    end\n",
    "    return true\n",
    "end\n",
    "\n",
    "# Compose arrows j and i and then simplify to a name\n",
    "function simplifyComposition(i::Symbol, j::Symbol, c::Category) :: Symbol\n",
    "    expression = :($j ∘ $i) \n",
    "\n",
    "    g = EGraph(expression)\n",
    "    saturate!(g, c.relations)\n",
    "    simplified = extract!(g, astsize)\n",
    "    return simplified\n",
    "end\n",
    "\n",
    "# Check that category c satisfies associativity by brute force\n",
    "function checkAssociativity(c::Category, debug::Bool = false) :: Bool\n",
    "    morphisms = keys(c.src)\n",
    " \n",
    "    for i in morphisms\n",
    "        for j in morphisms\n",
    "            for k in morphisms\n",
    "                if (c.target[i] == c.src[j]) && (c.target[j] == c.src[k])\n",
    "                    leftAssocLeft = simplifyComposition(i, j, c)\n",
    "                    leftAssoc = simplifyComposition(leftAssocLeft, k, c)\n",
    "                    rightAssocRight = simplifyComposition(j, k, c)\n",
    "                    rightAssoc = simplifyComposition(i, rightAssocRight, c)\n",
    "                    if leftAssoc != rightAssoc\n",
    "                        if debug\n",
    "                            print(\"associativity violation: \")\n",
    "                            println(i,j,k)\n",
    "                            println(leftAssocLeft)\n",
    "                            println(leftAssoc)\n",
    "                            println(rightAssocRight)\n",
    "                            println(rightAssoc)\n",
    "                            println(\" \")\n",
    "                        end\n",
    "\n",
    "                        return false\n",
    "                    end\n",
    "                end\n",
    "            end\n",
    "        end\n",
    "    end\n",
    "\n",
    "    return true\n",
    "end;\n",
    "\n",
    "#Check that the composition of any two arrows with matching sources and targets has a name by brute force\n",
    "function checkComposition(c::Category, debug::Bool=false) :: Bool\n",
    "    \n",
    "    morphisms = keys(c.src)\n",
    "    leftSides = Set([string(thisEquality.left) for thisEquality in c.relations])\n",
    "\n",
    "    for i in morphisms\n",
    "        for j in morphisms\n",
    "            if c.target[i] == c.src[j]\n",
    "                thisComposition = :($j ∘ $i)\n",
    "                if !in(string(thisComposition), leftSides) # check if composition is a left side of some equation\n",
    "                    if debug\n",
    "                        println(\"missing composition name: \")\n",
    "                        println(i,j)\n",
    "                        println(\" \")\n",
    "                    end\n",
    "                    return false\n",
    "                end\n",
    "            end\n",
    "        end\n",
    "    end\n",
    "    return true\n",
    "end;"
   ]
  },
  {
   "cell_type": "code",
   "execution_count": 37,
   "metadata": {},
   "outputs": [],
   "source": [
    "src = Dict(:f => 0, :g => 1, :h => 2, :i => 0, :k => 1, :m => 0, :n => 0)\n",
    "target = Dict(:f => 1, :g => 2, :h => 3, :i => 2, :k => 3, :m => 3, :n => 3)\n",
    "\n",
    "relations = @theory f begin\n",
    "    :g ∘ :f == :i \n",
    "    :h ∘ :g == :k\n",
    "    :h ∘ :i == :m \n",
    "    :k ∘ :f == :m \n",
    "end\n",
    "\n",
    "myCat = categoryInit(src, target, relations);"
   ]
  },
  {
   "cell_type": "code",
   "execution_count": 55,
   "metadata": {},
   "outputs": [
    {
     "data": {
      "text/plain": [
       "relationsProduct (generic function with 1 method)"
      ]
     },
     "metadata": {},
     "output_type": "display_data"
    }
   ],
   "source": [
    "function productCategory(c::Category, d::Category)\n",
    "    src = srcProduct(c, d)\n",
    "    target = targetProduct(c, d)\n",
    "    #relations = relationsProduct(c, d)\n",
    "    #productCat = categoryInit(src, target, relations)\n",
    "    #return productCat\n",
    "end;\n",
    "\n",
    "function srcProduct(c::Category, d::Category)\n",
    "    srcKeys = [(i, j) for i in keys(c.src) for j in keys(d.src)]\n",
    "    srcValues = [(i,j) for i in values(c.src) for j in values(d.src)]\n",
    "    return Dict(zip(srcKeys, srcValues))\n",
    "end\n",
    "\n",
    "function targetProduct(c::Category, d::Category)\n",
    "    targetKeys = [(i, j) for i in keys(c.target) for j in keys(d.target)]\n",
    "    targetValues = [(i,j) for i in values(c.target) for j in values(d.target)]\n",
    "    return Dict(zip(targetKeys, targetValues))\n",
    "end\n",
    "\n",
    "function relationsProduct(c::Category, d::Category)\n",
    "    return c.relations\n",
    "end"
   ]
  },
  {
   "cell_type": "code",
   "execution_count": 57,
   "metadata": {},
   "outputs": [
    {
     "data": {
      "text/plain": [
       "Dict{Tuple{Symbol, Symbol}, Tuple{Int64, Int64}} with 49 entries:\n",
       "  (:m, :f) => (3, 1)\n",
       "  (:k, :n) => (3, 3)\n",
       "  (:g, :n) => (2, 3)\n",
       "  (:i, :g) => (2, 2)\n",
       "  (:k, :k) => (3, 3)\n",
       "  (:h, :h) => (3, 3)\n",
       "  (:f, :n) => (1, 3)\n",
       "  (:h, :g) => (3, 2)\n",
       "  (:g, :i) => (2, 2)\n",
       "  (:n, :k) => (3, 3)\n",
       "  (:n, :h) => (3, 3)\n",
       "  (:k, :g) => (3, 2)\n",
       "  (:n, :g) => (3, 2)\n",
       "  (:m, :k) => (3, 3)\n",
       "  (:g, :f) => (2, 1)\n",
       "  (:f, :g) => (1, 2)\n",
       "  (:i, :i) => (2, 2)\n",
       "  (:h, :i) => (3, 2)\n",
       "  (:k, :m) => (3, 3)\n",
       "  ⋮        => ⋮"
      ]
     },
     "metadata": {},
     "output_type": "display_data"
    }
   ],
   "source": [
    "cat1 = categoryInit(src, target, relations);\n",
    "cat2 = categoryInit(src, target, relations);\n",
    "\n",
    "cat1CrossCat2 = productCategory(cat1, cat2)"
   ]
  },
  {
   "cell_type": "code",
   "execution_count": 12,
   "metadata": {},
   "outputs": [],
   "source": [
    "using NBInclude\n",
    "nbexport(\"categories.jl\", \"categories.ipynb\")"
   ]
  },
  {
   "cell_type": "code",
   "execution_count": null,
   "metadata": {},
   "outputs": [],
   "source": []
  }
 ],
 "metadata": {
  "kernelspec": {
   "display_name": "Julia 1.10.2",
   "language": "julia",
   "name": "julia-1.10"
  },
  "language_info": {
   "file_extension": ".jl",
   "mimetype": "application/julia",
   "name": "julia",
   "version": "1.10.2"
  }
 },
 "nbformat": 4,
 "nbformat_minor": 4
}
