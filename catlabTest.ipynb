{
 "cells": [
  {
   "cell_type": "code",
   "execution_count": 11,
   "metadata": {},
   "outputs": [
    {
     "ename": "ArgumentError",
     "evalue": "ArgumentError: Package Catlab not found in current path.\n- Run `import Pkg; Pkg.add(\"Catlab\")` to install the Catlab package.",
     "output_type": "error",
     "traceback": [
      "ArgumentError: Package Catlab not found in current path.\n",
      "- Run `import Pkg; Pkg.add(\"Catlab\")` to install the Catlab package.\n",
      "\n",
      "Stacktrace:\n",
      "  [1] macro expansion\n",
      "    @ .\\loading.jl:1772 [inlined]\n",
      "  [2] macro expansion\n",
      "    @ .\\lock.jl:267 [inlined]\n",
      "  [3] __require(into::Module, mod::Symbol)\n",
      "    @ Base .\\loading.jl:1753\n",
      "  [4] #invoke_in_world#3\n",
      "    @ .\\essentials.jl:926 [inlined]\n",
      "  [5] invoke_in_world\n",
      "    @ .\\essentials.jl:923 [inlined]\n",
      "  [6] require(into::Module, mod::Symbol)\n",
      "    @ Base .\\loading.jl:1746\n",
      "  [7] eval\n",
      "    @ .\\boot.jl:385 [inlined]\n",
      "  [8] include_string(mapexpr::typeof(REPL.softscope), mod::Module, code::String, filename::String)\n",
      "    @ Base .\\loading.jl:2076\n",
      "  [9] #invokelatest#2\n",
      "    @ .\\essentials.jl:892 [inlined]\n",
      " [10] invokelatest\n",
      "    @ .\\essentials.jl:889 [inlined]\n",
      " [11] (::VSCodeServer.var\"#214#215\"{VSCodeServer.NotebookRunCellArguments, String})()\n",
      "    @ VSCodeServer c:\\Users\\jetti\\.vscode\\extensions\\julialang.language-julia-1.75.2\\scripts\\packages\\VSCodeServer\\src\\serve_notebook.jl:19\n",
      " [12] withpath(f::VSCodeServer.var\"#214#215\"{VSCodeServer.NotebookRunCellArguments, String}, path::String)\n",
      "    @ VSCodeServer c:\\Users\\jetti\\.vscode\\extensions\\julialang.language-julia-1.75.2\\scripts\\packages\\VSCodeServer\\src\\repl.jl:274\n",
      " [13] notebook_runcell_request(conn::VSCodeServer.JSONRPC.JSONRPCEndpoint{Base.PipeEndpoint, Base.PipeEndpoint}, params::VSCodeServer.NotebookRunCellArguments)\n",
      "    @ VSCodeServer c:\\Users\\jetti\\.vscode\\extensions\\julialang.language-julia-1.75.2\\scripts\\packages\\VSCodeServer\\src\\serve_notebook.jl:13\n",
      " [14] dispatch_msg(x::VSCodeServer.JSONRPC.JSONRPCEndpoint{Base.PipeEndpoint, Base.PipeEndpoint}, dispatcher::VSCodeServer.JSONRPC.MsgDispatcher, msg::Dict{String, Any})\n",
      "    @ VSCodeServer.JSONRPC c:\\Users\\jetti\\.vscode\\extensions\\julialang.language-julia-1.75.2\\scripts\\packages\\JSONRPC\\src\\typed.jl:67\n",
      " [15] serve_notebook(pipename::String, outputchannel_logger::Base.CoreLogging.SimpleLogger; crashreporting_pipename::String)\n",
      "    @ VSCodeServer c:\\Users\\jetti\\.vscode\\extensions\\julialang.language-julia-1.75.2\\scripts\\packages\\VSCodeServer\\src\\serve_notebook.jl:139\n",
      " [16] top-level scope\n",
      "    @ c:\\Users\\jetti\\.vscode\\extensions\\julialang.language-julia-1.75.2\\scripts\\notebook\\notebook.jl:35"
     ]
    }
   ],
   "source": [
    "using Core: GeneratedFunctionStub\n",
    "using Test\n",
    "\n",
    "using Catlab.Theories, Catlab.CategoricalAlgebra\n",
    "import Catlab.Theories: compose"
   ]
  },
  {
   "cell_type": "code",
   "execution_count": 29,
   "metadata": {
    "collapsed": true,
    "jupyter": {
     "outputs_hidden": true
    }
   },
   "outputs": [
    {
     "data": {
      "image/png": "[encoded data removed]",
      "image/svg+xml": [
       "<?xml version=\"1.0\" encoding=\"utf-8\"?>\n",
       "<svg xmlns=\"http://www.w3.org/2000/svg\" xmlns:xlink=\"http://www.w3.org/1999/xlink\" width=\"600\" height=\"400\" viewBox=\"0 0 2400 1600\">\n",
       "<defs>\n",
       "  <clipPath id=\"clip150\">\n",
       "    <rect x=\"0\" y=\"0\" width=\"2400\" height=\"1600\"/>\n",
       "  </clipPath>\n",
       "</defs>\n",
       "<path clip-path=\"url(#clip150)\" d=\"M0 1600 L2400 1600 L2400 0 L0 0  Z\" fill=\"#ffffff\" fill-rule=\"evenodd\" fill-opacity=\"1\"/>\n",
       "<defs>\n",
       "  <clipPath id=\"clip151\">\n",
       "    <rect x=\"480\" y=\"0\" width=\"1681\" height=\"1600\"/>\n",
       "  </clipPath>\n",
       "</defs>\n",
       "<path clip-path=\"url(#clip150)\" d=\"M169.121 1486.45 L2352.76 1486.45 L2352.76 47.2441 L169.121 47.2441  Z\" fill=\"#ffffff\" fill-rule=\"evenodd\" fill-opacity=\"1\"/>\n",
       "<defs>\n",
       "  <clipPath id=\"clip152\">\n",
       "    <rect x=\"169\" y=\"47\" width=\"2185\" height=\"1440\"/>\n",
       "  </clipPath>\n",
       "</defs>\n",
       "<polyline clip-path=\"url(#clip152)\" style=\"stroke:#000000; stroke-linecap:round; stroke-linejoin:round; stroke-width:2; stroke-opacity:0.1; fill:none\" points=\"208.033,1486.45 208.033,47.2441 \"/>\n",
       "<polyline clip-path=\"url(#clip152)\" style=\"stroke:#000000; stroke-linecap:round; stroke-linejoin:round; stroke-width:2; stroke-opacity:0.1; fill:none\" points=\"665.818,1486.45 665.818,47.2441 \"/>\n",
       "<polyline clip-path=\"url(#clip152)\" style=\"stroke:#000000; stroke-linecap:round; stroke-linejoin:round; stroke-width:2; stroke-opacity:0.1; fill:none\" points=\"1123.6,1486.45 1123.6,47.2441 \"/>\n",
       "<polyline clip-path=\"url(#clip152)\" style=\"stroke:#000000; stroke-linecap:round; stroke-linejoin:round; stroke-width:2; stroke-opacity:0.1; fill:none\" points=\"1581.39,1486.45 1581.39,47.2441 \"/>\n",
       "<polyline clip-path=\"url(#clip152)\" style=\"stroke:#000000; stroke-linecap:round; stroke-linejoin:round; stroke-width:2; stroke-opacity:0.1; fill:none\" points=\"2039.17,1486.45 2039.17,47.2441 \"/>\n",
       "<polyline clip-path=\"url(#clip150)\" style=\"stroke:#000000; stroke-linecap:round; stroke-linejoin:round; stroke-width:4; stroke-opacity:1; fill:none\" points=\"169.121,1486.45 2352.76,1486.45 \"/>\n",
       "<polyline clip-path=\"url(#clip150)\" style=\"stroke:#000000; stroke-linecap:round; stroke-linejoin:round; stroke-width:4; stroke-opacity:1; fill:none\" points=\"208.033,1486.45 208.033,1467.55 \"/>\n",
       "<polyline clip-path=\"url(#clip150)\" style=\"stroke:#000000; stroke-linecap:round; stroke-linejoin:round; stroke-width:4; stroke-opacity:1; fill:none\" points=\"665.818,1486.45 665.818,1467.55 \"/>\n",
       "<polyline clip-path=\"url(#clip150)\" style=\"stroke:#000000; stroke-linecap:round; stroke-linejoin:round; stroke-width:4; stroke-opacity:1; fill:none\" points=\"1123.6,1486.45 1123.6,1467.55 \"/>\n",
       "<polyline clip-path=\"url(#clip150)\" style=\"stroke:#000000; stroke-linecap:round; stroke-linejoin:round; stroke-width:4; stroke-opacity:1; fill:none\" points=\"1581.39,1486.45 1581.39,1467.55 \"/>\n",
       "<polyline clip-path=\"url(#clip150)\" style=\"stroke:#000000; stroke-linecap:round; stroke-linejoin:round; stroke-width:4; stroke-opacity:1; fill:none\" points=\"2039.17,1486.45 2039.17,1467.55 \"/>\n",
       "<path clip-path=\"url(#clip150)\" d=\"M208.033 1517.37 Q204.422 1517.37 202.593 1520.93 Q200.788 1524.47 200.788 1531.6 Q200.788 1538.71 202.593 1542.27 Q204.422 1545.82 208.033 1545.82 Q211.667 1545.82 213.473 1542.27 Q215.302 1538.71 215.302 1531.6 Q215.302 1524.47 213.473 1520.93 Q211.667 1517.37 208.033 1517.37 M208.033 1513.66 Q213.843 1513.66 216.899 1518.27 Q219.977 1522.85 219.977 1531.6 Q219.977 1540.33 216.899 1544.94 Q213.843 1549.52 208.033 1549.52 Q202.223 1549.52 199.144 1544.94 Q196.089 1540.33 196.089 1531.6 Q196.089 1522.85 199.144 1518.27 Q202.223 1513.66 208.033 1513.66 Z\" fill=\"#000000\" fill-rule=\"nonzero\" fill-opacity=\"1\" /><path clip-path=\"url(#clip150)\" d=\"M644.591 1544.91 L660.911 1544.91 L660.911 1548.85 L638.966 1548.85 L638.966 1544.91 Q641.628 1542.16 646.212 1537.53 Q650.818 1532.88 651.999 1531.53 Q654.244 1529.01 655.124 1527.27 Q656.026 1525.51 656.026 1523.82 Q656.026 1521.07 654.082 1519.33 Q652.161 1517.6 649.059 1517.6 Q646.86 1517.6 644.406 1518.36 Q641.976 1519.13 639.198 1520.68 L639.198 1515.95 Q642.022 1514.82 644.476 1514.24 Q646.929 1513.66 648.966 1513.66 Q654.337 1513.66 657.531 1516.35 Q660.726 1519.03 660.726 1523.52 Q660.726 1525.65 659.915 1527.57 Q659.128 1529.47 657.022 1532.07 Q656.443 1532.74 653.341 1535.95 Q650.239 1539.15 644.591 1544.91 Z\" fill=\"#000000\" fill-rule=\"nonzero\" fill-opacity=\"1\" /><path clip-path=\"url(#clip150)\" d=\"M680.725 1517.37 Q677.114 1517.37 675.286 1520.93 Q673.48 1524.47 673.48 1531.6 Q673.48 1538.71 675.286 1542.27 Q677.114 1545.82 680.725 1545.82 Q684.36 1545.82 686.165 1542.27 Q687.994 1538.71 687.994 1531.6 Q687.994 1524.47 686.165 1520.93 Q684.36 1517.37 680.725 1517.37 M680.725 1513.66 Q686.536 1513.66 689.591 1518.27 Q692.67 1522.85 692.67 1531.6 Q692.67 1540.33 689.591 1544.94 Q686.536 1549.52 680.725 1549.52 Q674.915 1549.52 671.837 1544.94 Q668.781 1540.33 668.781 1531.6 Q668.781 1522.85 671.837 1518.27 Q674.915 1513.66 680.725 1513.66 Z\" fill=\"#000000\" fill-rule=\"nonzero\" fill-opacity=\"1\" /><path clip-path=\"url(#clip150)\" d=\"M1111.77 1518.36 L1099.97 1536.81 L1111.77 1536.81 L1111.77 1518.36 M1110.55 1514.29 L1116.43 1514.29 L1116.43 1536.81 L1121.36 1536.81 L1121.36 1540.7 L1116.43 1540.7 L1116.43 1548.85 L1111.77 1548.85 L1111.77 1540.7 L1096.17 1540.7 L1096.17 1536.19 L1110.55 1514.29 Z\" fill=\"#000000\" fill-rule=\"nonzero\" fill-opacity=\"1\" /><path clip-path=\"url(#clip150)\" d=\"M1139.09 1517.37 Q1135.48 1517.37 1133.65 1520.93 Q1131.84 1524.47 1131.84 1531.6 Q1131.84 1538.71 1133.65 1542.27 Q1135.48 1545.82 1139.09 1545.82 Q1142.72 1545.82 1144.53 1542.27 Q1146.36 1538.71 1146.36 1531.6 Q1146.36 1524.47 1144.53 1520.93 Q1142.72 1517.37 1139.09 1517.37 M1139.09 1513.66 Q1144.9 1513.66 1147.95 1518.27 Q1151.03 1522.85 1151.03 1531.6 Q1151.03 1540.33 1147.95 1544.94 Q1144.9 1549.52 1139.09 1549.52 Q1133.28 1549.52 1130.2 1544.94 Q1127.14 1540.33 1127.14 1531.6 Q1127.14 1522.85 1130.2 1518.27 Q1133.28 1513.66 1139.09 1513.66 Z\" fill=\"#000000\" fill-rule=\"nonzero\" fill-opacity=\"1\" /><path clip-path=\"url(#clip150)\" d=\"M1566.79 1529.7 Q1563.65 1529.7 1561.79 1531.86 Q1559.96 1534.01 1559.96 1537.76 Q1559.96 1541.49 1561.79 1543.66 Q1563.65 1545.82 1566.79 1545.82 Q1569.94 1545.82 1571.77 1543.66 Q1573.62 1541.49 1573.62 1537.76 Q1573.62 1534.01 1571.77 1531.86 Q1569.94 1529.7 1566.79 1529.7 M1576.08 1515.05 L1576.08 1519.31 Q1574.32 1518.48 1572.51 1518.04 Q1570.73 1517.6 1568.97 1517.6 Q1564.34 1517.6 1561.89 1520.72 Q1559.46 1523.85 1559.11 1530.17 Q1560.47 1528.15 1562.53 1527.09 Q1564.59 1526 1567.07 1526 Q1572.28 1526 1575.29 1529.17 Q1578.32 1532.32 1578.32 1537.76 Q1578.32 1543.08 1575.17 1546.3 Q1572.02 1549.52 1566.79 1549.52 Q1560.8 1549.52 1557.63 1544.94 Q1554.46 1540.33 1554.46 1531.6 Q1554.46 1523.41 1558.34 1518.55 Q1562.23 1513.66 1568.78 1513.66 Q1570.54 1513.66 1572.33 1514.01 Q1574.13 1514.36 1576.08 1515.05 Z\" fill=\"#000000\" fill-rule=\"nonzero\" fill-opacity=\"1\" /><path clip-path=\"url(#clip150)\" d=\"M1596.38 1517.37 Q1592.77 1517.37 1590.94 1520.93 Q1589.13 1524.47 1589.13 1531.6 Q1589.13 1538.71 1590.94 1542.27 Q1592.77 1545.82 1596.38 1545.82 Q1600.01 1545.82 1601.82 1542.27 Q1603.64 1538.71 1603.64 1531.6 Q1603.64 1524.47 1601.82 1520.93 Q1600.01 1517.37 1596.38 1517.37 M1596.38 1513.66 Q1602.19 1513.66 1605.24 1518.27 Q1608.32 1522.85 1608.32 1531.6 Q1608.32 1540.33 1605.24 1544.94 Q1602.19 1549.52 1596.38 1549.52 Q1590.57 1549.52 1587.49 1544.94 Q1584.43 1540.33 1584.43 1531.6 Q1584.43 1522.85 1587.49 1518.27 Q1590.57 1513.66 1596.38 1513.66 Z\" fill=\"#000000\" fill-rule=\"nonzero\" fill-opacity=\"1\" /><path clip-path=\"url(#clip150)\" d=\"M2024.05 1532.44 Q2020.71 1532.44 2018.79 1534.22 Q2016.89 1536 2016.89 1539.13 Q2016.89 1542.25 2018.79 1544.03 Q2020.71 1545.82 2024.05 1545.82 Q2027.38 1545.82 2029.3 1544.03 Q2031.22 1542.23 2031.22 1539.13 Q2031.22 1536 2029.3 1534.22 Q2027.4 1532.44 2024.05 1532.44 M2019.37 1530.45 Q2016.36 1529.7 2014.67 1527.64 Q2013 1525.58 2013 1522.62 Q2013 1518.48 2015.94 1516.07 Q2018.91 1513.66 2024.05 1513.66 Q2029.21 1513.66 2032.15 1516.07 Q2035.09 1518.48 2035.09 1522.62 Q2035.09 1525.58 2033.4 1527.64 Q2031.73 1529.7 2028.74 1530.45 Q2032.12 1531.23 2034 1533.52 Q2035.9 1535.82 2035.9 1539.13 Q2035.9 1544.15 2032.82 1546.83 Q2029.76 1549.52 2024.05 1549.52 Q2018.33 1549.52 2015.25 1546.83 Q2012.19 1544.15 2012.19 1539.13 Q2012.19 1535.82 2014.09 1533.52 Q2015.99 1531.23 2019.37 1530.45 M2017.66 1523.06 Q2017.66 1525.75 2019.32 1527.25 Q2021.01 1528.76 2024.05 1528.76 Q2027.06 1528.76 2028.74 1527.25 Q2030.46 1525.75 2030.46 1523.06 Q2030.46 1520.38 2028.74 1518.87 Q2027.06 1517.37 2024.05 1517.37 Q2021.01 1517.37 2019.32 1518.87 Q2017.66 1520.38 2017.66 1523.06 Z\" fill=\"#000000\" fill-rule=\"nonzero\" fill-opacity=\"1\" /><path clip-path=\"url(#clip150)\" d=\"M2054.21 1517.37 Q2050.6 1517.37 2048.77 1520.93 Q2046.96 1524.47 2046.96 1531.6 Q2046.96 1538.71 2048.77 1542.27 Q2050.6 1545.82 2054.21 1545.82 Q2057.84 1545.82 2059.65 1542.27 Q2061.48 1538.71 2061.48 1531.6 Q2061.48 1524.47 2059.65 1520.93 Q2057.84 1517.37 2054.21 1517.37 M2054.21 1513.66 Q2060.02 1513.66 2063.07 1518.27 Q2066.15 1522.85 2066.15 1531.6 Q2066.15 1540.33 2063.07 1544.94 Q2060.02 1549.52 2054.21 1549.52 Q2048.4 1549.52 2045.32 1544.94 Q2042.26 1540.33 2042.26 1531.6 Q2042.26 1522.85 2045.32 1518.27 Q2048.4 1513.66 2054.21 1513.66 Z\" fill=\"#000000\" fill-rule=\"nonzero\" fill-opacity=\"1\" /><polyline clip-path=\"url(#clip152)\" style=\"stroke:#000000; stroke-linecap:round; stroke-linejoin:round; stroke-width:2; stroke-opacity:0.1; fill:none\" points=\"169.121,1459.43 2352.76,1459.43 \"/>\n",
       "<polyline clip-path=\"url(#clip152)\" style=\"stroke:#000000; stroke-linecap:round; stroke-linejoin:round; stroke-width:2; stroke-opacity:0.1; fill:none\" points=\"169.121,1116.57 2352.76,1116.57 \"/>\n",
       "<polyline clip-path=\"url(#clip152)\" style=\"stroke:#000000; stroke-linecap:round; stroke-linejoin:round; stroke-width:2; stroke-opacity:0.1; fill:none\" points=\"169.121,773.703 2352.76,773.703 \"/>\n",
       "<polyline clip-path=\"url(#clip152)\" style=\"stroke:#000000; stroke-linecap:round; stroke-linejoin:round; stroke-width:2; stroke-opacity:0.1; fill:none\" points=\"169.121,430.84 2352.76,430.84 \"/>\n",
       "<polyline clip-path=\"url(#clip152)\" style=\"stroke:#000000; stroke-linecap:round; stroke-linejoin:round; stroke-width:2; stroke-opacity:0.1; fill:none\" points=\"169.121,87.9763 2352.76,87.9763 \"/>\n",
       "<polyline clip-path=\"url(#clip150)\" style=\"stroke:#000000; stroke-linecap:round; stroke-linejoin:round; stroke-width:4; stroke-opacity:1; fill:none\" points=\"169.121,1486.45 169.121,47.2441 \"/>\n",
       "<polyline clip-path=\"url(#clip150)\" style=\"stroke:#000000; stroke-linecap:round; stroke-linejoin:round; stroke-width:4; stroke-opacity:1; fill:none\" points=\"169.121,1459.43 188.019,1459.43 \"/>\n",
       "<polyline clip-path=\"url(#clip150)\" style=\"stroke:#000000; stroke-linecap:round; stroke-linejoin:round; stroke-width:4; stroke-opacity:1; fill:none\" points=\"169.121,1116.57 188.019,1116.57 \"/>\n",
       "<polyline clip-path=\"url(#clip150)\" style=\"stroke:#000000; stroke-linecap:round; stroke-linejoin:round; stroke-width:4; stroke-opacity:1; fill:none\" points=\"169.121,773.703 188.019,773.703 \"/>\n",
       "<polyline clip-path=\"url(#clip150)\" style=\"stroke:#000000; stroke-linecap:round; stroke-linejoin:round; stroke-width:4; stroke-opacity:1; fill:none\" points=\"169.121,430.84 188.019,430.84 \"/>\n",
       "<polyline clip-path=\"url(#clip150)\" style=\"stroke:#000000; stroke-linecap:round; stroke-linejoin:round; stroke-width:4; stroke-opacity:1; fill:none\" points=\"169.121,87.9763 188.019,87.9763 \"/>\n",
       "<path clip-path=\"url(#clip150)\" d=\"M121.177 1445.23 Q117.566 1445.23 115.737 1448.79 Q113.932 1452.34 113.932 1459.46 Q113.932 1466.57 115.737 1470.14 Q117.566 1473.68 121.177 1473.68 Q124.811 1473.68 126.617 1470.14 Q128.445 1466.57 128.445 1459.46 Q128.445 1452.34 126.617 1448.79 Q124.811 1445.23 121.177 1445.23 M121.177 1441.53 Q126.987 1441.53 130.043 1446.13 Q133.121 1450.72 133.121 1459.46 Q133.121 1468.19 130.043 1472.8 Q126.987 1477.38 121.177 1477.38 Q115.367 1477.38 112.288 1472.8 Q109.233 1468.19 109.233 1459.46 Q109.233 1450.72 112.288 1446.13 Q115.367 1441.53 121.177 1441.53 Z\" fill=\"#000000\" fill-rule=\"nonzero\" fill-opacity=\"1\" /><path clip-path=\"url(#clip150)\" d=\"M86.0382 1129.91 L102.358 1129.91 L102.358 1133.85 L80.4133 1133.85 L80.4133 1129.91 Q83.0753 1127.16 87.6586 1122.53 Q92.2651 1117.87 93.4456 1116.53 Q95.691 1114.01 96.5706 1112.27 Q97.4734 1110.51 97.4734 1108.82 Q97.4734 1106.07 95.5289 1104.33 Q93.6076 1102.6 90.5058 1102.6 Q88.3067 1102.6 85.8531 1103.36 Q83.4225 1104.12 80.6447 1105.68 L80.6447 1100.95 Q83.4688 1099.82 85.9225 1099.24 Q88.3762 1098.66 90.4132 1098.66 Q95.7836 1098.66 98.978 1101.35 Q102.172 1104.03 102.172 1108.52 Q102.172 1110.65 101.362 1112.57 Q100.575 1114.47 98.4687 1117.06 Q97.89 1117.74 94.7882 1120.95 Q91.6864 1124.15 86.0382 1129.91 Z\" fill=\"#000000\" fill-rule=\"nonzero\" fill-opacity=\"1\" /><path clip-path=\"url(#clip150)\" d=\"M112.219 1099.29 L130.575 1099.29 L130.575 1103.22 L116.501 1103.22 L116.501 1111.69 Q117.52 1111.35 118.538 1111.18 Q119.557 1111 120.575 1111 Q126.362 1111 129.742 1114.17 Q133.121 1117.34 133.121 1122.76 Q133.121 1128.34 129.649 1131.44 Q126.177 1134.52 119.857 1134.52 Q117.682 1134.52 115.413 1134.15 Q113.168 1133.78 110.76 1133.04 L110.76 1128.34 Q112.844 1129.47 115.066 1130.03 Q117.288 1130.58 119.765 1130.58 Q123.77 1130.58 126.107 1128.48 Q128.445 1126.37 128.445 1122.76 Q128.445 1119.15 126.107 1117.04 Q123.77 1114.93 119.765 1114.93 Q117.89 1114.93 116.015 1115.35 Q114.163 1115.77 112.219 1116.65 L112.219 1099.29 Z\" fill=\"#000000\" fill-rule=\"nonzero\" fill-opacity=\"1\" /><path clip-path=\"url(#clip150)\" d=\"M81.0614 756.423 L99.4178 756.423 L99.4178 760.358 L85.3438 760.358 L85.3438 768.831 Q86.3623 768.483 87.3808 768.321 Q88.3993 768.136 89.4178 768.136 Q95.2049 768.136 98.5845 771.307 Q101.964 774.479 101.964 779.895 Q101.964 785.474 98.4919 788.576 Q95.0197 791.655 88.7003 791.655 Q86.5243 791.655 84.2558 791.284 Q82.0105 790.914 79.6031 790.173 L79.6031 785.474 Q81.6864 786.608 83.9086 787.164 Q86.1308 787.719 88.6077 787.719 Q92.6123 787.719 94.9502 785.613 Q97.2882 783.506 97.2882 779.895 Q97.2882 776.284 94.9502 774.178 Q92.6123 772.071 88.6077 772.071 Q86.7327 772.071 84.8577 772.488 Q83.0058 772.905 81.0614 773.784 L81.0614 756.423 Z\" fill=\"#000000\" fill-rule=\"nonzero\" fill-opacity=\"1\" /><path clip-path=\"url(#clip150)\" d=\"M121.177 759.502 Q117.566 759.502 115.737 763.067 Q113.932 766.608 113.932 773.738 Q113.932 780.844 115.737 784.409 Q117.566 787.951 121.177 787.951 Q124.811 787.951 126.617 784.409 Q128.445 780.844 128.445 773.738 Q128.445 766.608 126.617 763.067 Q124.811 759.502 121.177 759.502 M121.177 755.798 Q126.987 755.798 130.043 760.405 Q133.121 764.988 133.121 773.738 Q133.121 782.465 130.043 787.071 Q126.987 791.655 121.177 791.655 Q115.367 791.655 112.288 787.071 Q109.233 782.465 109.233 773.738 Q109.233 764.988 112.288 760.405 Q115.367 755.798 121.177 755.798 Z\" fill=\"#000000\" fill-rule=\"nonzero\" fill-opacity=\"1\" /><path clip-path=\"url(#clip150)\" d=\"M80.8299 413.56 L103.052 413.56 L103.052 415.55 L90.5058 448.12 L85.6216 448.12 L97.4271 417.495 L80.8299 417.495 L80.8299 413.56 Z\" fill=\"#000000\" fill-rule=\"nonzero\" fill-opacity=\"1\" /><path clip-path=\"url(#clip150)\" d=\"M112.219 413.56 L130.575 413.56 L130.575 417.495 L116.501 417.495 L116.501 425.967 Q117.52 425.62 118.538 425.458 Q119.557 425.273 120.575 425.273 Q126.362 425.273 129.742 428.444 Q133.121 431.615 133.121 437.032 Q133.121 442.611 129.649 445.712 Q126.177 448.791 119.857 448.791 Q117.682 448.791 115.413 448.421 Q113.168 448.05 110.76 447.31 L110.76 442.611 Q112.844 443.745 115.066 444.3 Q117.288 444.856 119.765 444.856 Q123.77 444.856 126.107 442.749 Q128.445 440.643 128.445 437.032 Q128.445 433.421 126.107 431.314 Q123.77 429.208 119.765 429.208 Q117.89 429.208 116.015 429.624 Q114.163 430.041 112.219 430.921 L112.219 413.56 Z\" fill=\"#000000\" fill-rule=\"nonzero\" fill-opacity=\"1\" /><path clip-path=\"url(#clip150)\" d=\"M51.6634 101.321 L59.3023 101.321 L59.3023 74.9555 L50.9921 76.6222 L50.9921 72.3629 L59.256 70.6963 L63.9319 70.6963 L63.9319 101.321 L71.5707 101.321 L71.5707 105.256 L51.6634 105.256 L51.6634 101.321 Z\" fill=\"#000000\" fill-rule=\"nonzero\" fill-opacity=\"1\" /><path clip-path=\"url(#clip150)\" d=\"M91.0151 73.775 Q87.404 73.775 85.5753 77.3398 Q83.7697 80.8814 83.7697 88.011 Q83.7697 95.1174 85.5753 98.6822 Q87.404 102.224 91.0151 102.224 Q94.6493 102.224 96.4548 98.6822 Q98.2835 95.1174 98.2835 88.011 Q98.2835 80.8814 96.4548 77.3398 Q94.6493 73.775 91.0151 73.775 M91.0151 70.0713 Q96.8252 70.0713 99.8808 74.6777 Q102.959 79.261 102.959 88.011 Q102.959 96.7378 99.8808 101.344 Q96.8252 105.928 91.0151 105.928 Q85.2049 105.928 82.1262 101.344 Q79.0707 96.7378 79.0707 88.011 Q79.0707 79.261 82.1262 74.6777 Q85.2049 70.0713 91.0151 70.0713 Z\" fill=\"#000000\" fill-rule=\"nonzero\" fill-opacity=\"1\" /><path clip-path=\"url(#clip150)\" d=\"M121.177 73.775 Q117.566 73.775 115.737 77.3398 Q113.932 80.8814 113.932 88.011 Q113.932 95.1174 115.737 98.6822 Q117.566 102.224 121.177 102.224 Q124.811 102.224 126.617 98.6822 Q128.445 95.1174 128.445 88.011 Q128.445 80.8814 126.617 77.3398 Q124.811 73.775 121.177 73.775 M121.177 70.0713 Q126.987 70.0713 130.043 74.6777 Q133.121 79.261 133.121 88.011 Q133.121 96.7378 130.043 101.344 Q126.987 105.928 121.177 105.928 Q115.367 105.928 112.288 101.344 Q109.233 96.7378 109.233 88.011 Q109.233 79.261 112.288 74.6777 Q115.367 70.0713 121.177 70.0713 Z\" fill=\"#000000\" fill-rule=\"nonzero\" fill-opacity=\"1\" /><polyline clip-path=\"url(#clip152)\" style=\"stroke:#009af9; stroke-linecap:round; stroke-linejoin:round; stroke-width:4; stroke-opacity:1; fill:none\" points=\"230.922,1445.72 253.812,1442.84 276.701,1439.68 299.59,1436.25 322.479,1432.55 345.369,1428.57 368.258,1424.32 391.147,1419.8 414.036,1415 436.926,1409.92 459.815,1404.57 482.704,1398.95 505.593,1393.05 528.483,1386.88 551.372,1380.43 574.261,1373.71 597.15,1366.72 620.04,1359.45 642.929,1351.91 665.818,1344.09 688.707,1336 711.597,1327.63 734.486,1318.99 757.375,1310.08 780.264,1300.89 803.154,1291.43 826.043,1281.69 848.932,1271.68 871.821,1261.39 894.711,1250.83 917.6,1240 940.489,1228.89 963.378,1217.51 986.268,1205.85 1009.16,1193.92 1032.05,1181.71 1054.94,1169.23 1077.82,1156.48 1100.71,1143.45 1123.6,1130.14 1146.49,1116.57 1169.38,1102.72 1192.27,1088.59 1215.16,1074.19 1238.05,1059.51 1260.94,1044.57 1283.83,1029.34 1306.72,1013.84 1329.61,998.073 1352.5,982.027 1375.38,965.707 1398.27,949.112 1421.16,932.243 1444.05,915.1 1466.94,897.683 1489.83,879.991 1512.72,862.025 1535.61,843.785 1558.5,825.27 1581.39,806.481 1604.28,787.418 1627.17,768.08 1650.06,748.469 1672.95,728.582 1695.83,708.422 1718.72,687.987 1741.61,667.278 1764.5,646.295 1787.39,625.038 1810.28,603.506 1833.17,581.7 1856.06,559.619 1878.95,537.265 1901.84,514.636 1924.73,491.732 1947.62,468.555 1970.51,445.103 1993.39,421.377 2016.28,397.376 2039.17,373.102 2062.06,348.553 2084.95,323.729 2107.84,298.632 2130.73,273.26 2153.62,247.614 2176.51,221.693 2199.4,195.498 2222.29,169.029 2245.18,142.286 2268.07,115.268 2290.95,87.9763 \"/>\n",
       "<path clip-path=\"url(#clip150)\" d=\"M241.909 198.898 L512.703 198.898 L512.703 95.2176 L241.909 95.2176  Z\" fill=\"#ffffff\" fill-rule=\"evenodd\" fill-opacity=\"1\"/>\n",
       "<polyline clip-path=\"url(#clip150)\" style=\"stroke:#000000; stroke-linecap:round; stroke-linejoin:round; stroke-width:4; stroke-opacity:1; fill:none\" points=\"241.909,198.898 512.703,198.898 512.703,95.2176 241.909,95.2176 241.909,198.898 \"/>\n",
       "<polyline clip-path=\"url(#clip150)\" style=\"stroke:#009af9; stroke-linecap:round; stroke-linejoin:round; stroke-width:4; stroke-opacity:1; fill:none\" points=\"266.172,147.058 411.747,147.058 \"/>\n",
       "<path clip-path=\"url(#clip150)\" d=\"M449.853 166.745 Q448.047 171.375 446.334 172.787 Q444.621 174.199 441.751 174.199 L438.348 174.199 L438.348 170.634 L440.848 170.634 Q442.607 170.634 443.579 169.8 Q444.552 168.967 445.732 165.865 L446.496 163.921 L436.01 138.412 L440.524 138.412 L448.626 158.689 L456.727 138.412 L461.241 138.412 L449.853 166.745 Z\" fill=\"#000000\" fill-rule=\"nonzero\" fill-opacity=\"1\" /><path clip-path=\"url(#clip150)\" d=\"M468.533 160.402 L476.172 160.402 L476.172 134.037 L467.862 135.703 L467.862 131.444 L476.126 129.778 L480.801 129.778 L480.801 160.402 L488.44 160.402 L488.44 164.338 L468.533 164.338 L468.533 160.402 Z\" fill=\"#000000\" fill-rule=\"nonzero\" fill-opacity=\"1\" /></svg>\n"
      ],
      "text/html": [
       "<?xml version=\"1.0\" encoding=\"utf-8\"?>\n",
       "<svg xmlns=\"http://www.w3.org/2000/svg\" xmlns:xlink=\"http://www.w3.org/1999/xlink\" width=\"600\" height=\"400\" viewBox=\"0 0 2400 1600\">\n",
       "<defs>\n",
       "  <clipPath id=\"clip200\">\n",
       "    <rect x=\"0\" y=\"0\" width=\"2400\" height=\"1600\"/>\n",
       "  </clipPath>\n",
       "</defs>\n",
       "<path clip-path=\"url(#clip200)\" d=\"M0 1600 L2400 1600 L2400 0 L0 0  Z\" fill=\"#ffffff\" fill-rule=\"evenodd\" fill-opacity=\"1\"/>\n",
       "<defs>\n",
       "  <clipPath id=\"clip201\">\n",
       "    <rect x=\"480\" y=\"0\" width=\"1681\" height=\"1600\"/>\n",
       "  </clipPath>\n",
       "</defs>\n",
       "<path clip-path=\"url(#clip200)\" d=\"M169.121 1486.45 L2352.76 1486.45 L2352.76 47.2441 L169.121 47.2441  Z\" fill=\"#ffffff\" fill-rule=\"evenodd\" fill-opacity=\"1\"/>\n",
       "<defs>\n",
       "  <clipPath id=\"clip202\">\n",
       "    <rect x=\"169\" y=\"47\" width=\"2185\" height=\"1440\"/>\n",
       "  </clipPath>\n",
       "</defs>\n",
       "<polyline clip-path=\"url(#clip202)\" style=\"stroke:#000000; stroke-linecap:round; stroke-linejoin:round; stroke-width:2; stroke-opacity:0.1; fill:none\" points=\"208.033,1486.45 208.033,47.2441 \"/>\n",
       "<polyline clip-path=\"url(#clip202)\" style=\"stroke:#000000; stroke-linecap:round; stroke-linejoin:round; stroke-width:2; stroke-opacity:0.1; fill:none\" points=\"665.818,1486.45 665.818,47.2441 \"/>\n",
       "<polyline clip-path=\"url(#clip202)\" style=\"stroke:#000000; stroke-linecap:round; stroke-linejoin:round; stroke-width:2; stroke-opacity:0.1; fill:none\" points=\"1123.6,1486.45 1123.6,47.2441 \"/>\n",
       "<polyline clip-path=\"url(#clip202)\" style=\"stroke:#000000; stroke-linecap:round; stroke-linejoin:round; stroke-width:2; stroke-opacity:0.1; fill:none\" points=\"1581.39,1486.45 1581.39,47.2441 \"/>\n",
       "<polyline clip-path=\"url(#clip202)\" style=\"stroke:#000000; stroke-linecap:round; stroke-linejoin:round; stroke-width:2; stroke-opacity:0.1; fill:none\" points=\"2039.17,1486.45 2039.17,47.2441 \"/>\n",
       "<polyline clip-path=\"url(#clip200)\" style=\"stroke:#000000; stroke-linecap:round; stroke-linejoin:round; stroke-width:4; stroke-opacity:1; fill:none\" points=\"169.121,1486.45 2352.76,1486.45 \"/>\n",
       "<polyline clip-path=\"url(#clip200)\" style=\"stroke:#000000; stroke-linecap:round; stroke-linejoin:round; stroke-width:4; stroke-opacity:1; fill:none\" points=\"208.033,1486.45 208.033,1467.55 \"/>\n",
       "<polyline clip-path=\"url(#clip200)\" style=\"stroke:#000000; stroke-linecap:round; stroke-linejoin:round; stroke-width:4; stroke-opacity:1; fill:none\" points=\"665.818,1486.45 665.818,1467.55 \"/>\n",
       "<polyline clip-path=\"url(#clip200)\" style=\"stroke:#000000; stroke-linecap:round; stroke-linejoin:round; stroke-width:4; stroke-opacity:1; fill:none\" points=\"1123.6,1486.45 1123.6,1467.55 \"/>\n",
       "<polyline clip-path=\"url(#clip200)\" style=\"stroke:#000000; stroke-linecap:round; stroke-linejoin:round; stroke-width:4; stroke-opacity:1; fill:none\" points=\"1581.39,1486.45 1581.39,1467.55 \"/>\n",
       "<polyline clip-path=\"url(#clip200)\" style=\"stroke:#000000; stroke-linecap:round; stroke-linejoin:round; stroke-width:4; stroke-opacity:1; fill:none\" points=\"2039.17,1486.45 2039.17,1467.55 \"/>\n",
       "<path clip-path=\"url(#clip200)\" d=\"M208.033 1517.37 Q204.422 1517.37 202.593 1520.93 Q200.788 1524.47 200.788 1531.6 Q200.788 1538.71 202.593 1542.27 Q204.422 1545.82 208.033 1545.82 Q211.667 1545.82 213.473 1542.27 Q215.302 1538.71 215.302 1531.6 Q215.302 1524.47 213.473 1520.93 Q211.667 1517.37 208.033 1517.37 M208.033 1513.66 Q213.843 1513.66 216.899 1518.27 Q219.977 1522.85 219.977 1531.6 Q219.977 1540.33 216.899 1544.94 Q213.843 1549.52 208.033 1549.52 Q202.223 1549.52 199.144 1544.94 Q196.089 1540.33 196.089 1531.6 Q196.089 1522.85 199.144 1518.27 Q202.223 1513.66 208.033 1513.66 Z\" fill=\"#000000\" fill-rule=\"nonzero\" fill-opacity=\"1\" /><path clip-path=\"url(#clip200)\" d=\"M644.591 1544.91 L660.911 1544.91 L660.911 1548.85 L638.966 1548.85 L638.966 1544.91 Q641.628 1542.16 646.212 1537.53 Q650.818 1532.88 651.999 1531.53 Q654.244 1529.01 655.124 1527.27 Q656.026 1525.51 656.026 1523.82 Q656.026 1521.07 654.082 1519.33 Q652.161 1517.6 649.059 1517.6 Q646.86 1517.6 644.406 1518.36 Q641.976 1519.13 639.198 1520.68 L639.198 1515.95 Q642.022 1514.82 644.476 1514.24 Q646.929 1513.66 648.966 1513.66 Q654.337 1513.66 657.531 1516.35 Q660.726 1519.03 660.726 1523.52 Q660.726 1525.65 659.915 1527.57 Q659.128 1529.47 657.022 1532.07 Q656.443 1532.74 653.341 1535.95 Q650.239 1539.15 644.591 1544.91 Z\" fill=\"#000000\" fill-rule=\"nonzero\" fill-opacity=\"1\" /><path clip-path=\"url(#clip200)\" d=\"M680.725 1517.37 Q677.114 1517.37 675.286 1520.93 Q673.48 1524.47 673.48 1531.6 Q673.48 1538.71 675.286 1542.27 Q677.114 1545.82 680.725 1545.82 Q684.36 1545.82 686.165 1542.27 Q687.994 1538.71 687.994 1531.6 Q687.994 1524.47 686.165 1520.93 Q684.36 1517.37 680.725 1517.37 M680.725 1513.66 Q686.536 1513.66 689.591 1518.27 Q692.67 1522.85 692.67 1531.6 Q692.67 1540.33 689.591 1544.94 Q686.536 1549.52 680.725 1549.52 Q674.915 1549.52 671.837 1544.94 Q668.781 1540.33 668.781 1531.6 Q668.781 1522.85 671.837 1518.27 Q674.915 1513.66 680.725 1513.66 Z\" fill=\"#000000\" fill-rule=\"nonzero\" fill-opacity=\"1\" /><path clip-path=\"url(#clip200)\" d=\"M1111.77 1518.36 L1099.97 1536.81 L1111.77 1536.81 L1111.77 1518.36 M1110.55 1514.29 L1116.43 1514.29 L1116.43 1536.81 L1121.36 1536.81 L1121.36 1540.7 L1116.43 1540.7 L1116.43 1548.85 L1111.77 1548.85 L1111.77 1540.7 L1096.17 1540.7 L1096.17 1536.19 L1110.55 1514.29 Z\" fill=\"#000000\" fill-rule=\"nonzero\" fill-opacity=\"1\" /><path clip-path=\"url(#clip200)\" d=\"M1139.09 1517.37 Q1135.48 1517.37 1133.65 1520.93 Q1131.84 1524.47 1131.84 1531.6 Q1131.84 1538.71 1133.65 1542.27 Q1135.48 1545.82 1139.09 1545.82 Q1142.72 1545.82 1144.53 1542.27 Q1146.36 1538.71 1146.36 1531.6 Q1146.36 1524.47 1144.53 1520.93 Q1142.72 1517.37 1139.09 1517.37 M1139.09 1513.66 Q1144.9 1513.66 1147.95 1518.27 Q1151.03 1522.85 1151.03 1531.6 Q1151.03 1540.33 1147.95 1544.94 Q1144.9 1549.52 1139.09 1549.52 Q1133.28 1549.52 1130.2 1544.94 Q1127.14 1540.33 1127.14 1531.6 Q1127.14 1522.85 1130.2 1518.27 Q1133.28 1513.66 1139.09 1513.66 Z\" fill=\"#000000\" fill-rule=\"nonzero\" fill-opacity=\"1\" /><path clip-path=\"url(#clip200)\" d=\"M1566.79 1529.7 Q1563.65 1529.7 1561.79 1531.86 Q1559.96 1534.01 1559.96 1537.76 Q1559.96 1541.49 1561.79 1543.66 Q1563.65 1545.82 1566.79 1545.82 Q1569.94 1545.82 1571.77 1543.66 Q1573.62 1541.49 1573.62 1537.76 Q1573.62 1534.01 1571.77 1531.86 Q1569.94 1529.7 1566.79 1529.7 M1576.08 1515.05 L1576.08 1519.31 Q1574.32 1518.48 1572.51 1518.04 Q1570.73 1517.6 1568.97 1517.6 Q1564.34 1517.6 1561.89 1520.72 Q1559.46 1523.85 1559.11 1530.17 Q1560.47 1528.15 1562.53 1527.09 Q1564.59 1526 1567.07 1526 Q1572.28 1526 1575.29 1529.17 Q1578.32 1532.32 1578.32 1537.76 Q1578.32 1543.08 1575.17 1546.3 Q1572.02 1549.52 1566.79 1549.52 Q1560.8 1549.52 1557.63 1544.94 Q1554.46 1540.33 1554.46 1531.6 Q1554.46 1523.41 1558.34 1518.55 Q1562.23 1513.66 1568.78 1513.66 Q1570.54 1513.66 1572.33 1514.01 Q1574.13 1514.36 1576.08 1515.05 Z\" fill=\"#000000\" fill-rule=\"nonzero\" fill-opacity=\"1\" /><path clip-path=\"url(#clip200)\" d=\"M1596.38 1517.37 Q1592.77 1517.37 1590.94 1520.93 Q1589.13 1524.47 1589.13 1531.6 Q1589.13 1538.71 1590.94 1542.27 Q1592.77 1545.82 1596.38 1545.82 Q1600.01 1545.82 1601.82 1542.27 Q1603.64 1538.71 1603.64 1531.6 Q1603.64 1524.47 1601.82 1520.93 Q1600.01 1517.37 1596.38 1517.37 M1596.38 1513.66 Q1602.19 1513.66 1605.24 1518.27 Q1608.32 1522.85 1608.32 1531.6 Q1608.32 1540.33 1605.24 1544.94 Q1602.19 1549.52 1596.38 1549.52 Q1590.57 1549.52 1587.49 1544.94 Q1584.43 1540.33 1584.43 1531.6 Q1584.43 1522.85 1587.49 1518.27 Q1590.57 1513.66 1596.38 1513.66 Z\" fill=\"#000000\" fill-rule=\"nonzero\" fill-opacity=\"1\" /><path clip-path=\"url(#clip200)\" d=\"M2024.05 1532.44 Q2020.71 1532.44 2018.79 1534.22 Q2016.89 1536 2016.89 1539.13 Q2016.89 1542.25 2018.79 1544.03 Q2020.71 1545.82 2024.05 1545.82 Q2027.38 1545.82 2029.3 1544.03 Q2031.22 1542.23 2031.22 1539.13 Q2031.22 1536 2029.3 1534.22 Q2027.4 1532.44 2024.05 1532.44 M2019.37 1530.45 Q2016.36 1529.7 2014.67 1527.64 Q2013 1525.58 2013 1522.62 Q2013 1518.48 2015.94 1516.07 Q2018.91 1513.66 2024.05 1513.66 Q2029.21 1513.66 2032.15 1516.07 Q2035.09 1518.48 2035.09 1522.62 Q2035.09 1525.58 2033.4 1527.64 Q2031.73 1529.7 2028.74 1530.45 Q2032.12 1531.23 2034 1533.52 Q2035.9 1535.82 2035.9 1539.13 Q2035.9 1544.15 2032.82 1546.83 Q2029.76 1549.52 2024.05 1549.52 Q2018.33 1549.52 2015.25 1546.83 Q2012.19 1544.15 2012.19 1539.13 Q2012.19 1535.82 2014.09 1533.52 Q2015.99 1531.23 2019.37 1530.45 M2017.66 1523.06 Q2017.66 1525.75 2019.32 1527.25 Q2021.01 1528.76 2024.05 1528.76 Q2027.06 1528.76 2028.74 1527.25 Q2030.46 1525.75 2030.46 1523.06 Q2030.46 1520.38 2028.74 1518.87 Q2027.06 1517.37 2024.05 1517.37 Q2021.01 1517.37 2019.32 1518.87 Q2017.66 1520.38 2017.66 1523.06 Z\" fill=\"#000000\" fill-rule=\"nonzero\" fill-opacity=\"1\" /><path clip-path=\"url(#clip200)\" d=\"M2054.21 1517.37 Q2050.6 1517.37 2048.77 1520.93 Q2046.96 1524.47 2046.96 1531.6 Q2046.96 1538.71 2048.77 1542.27 Q2050.6 1545.82 2054.21 1545.82 Q2057.84 1545.82 2059.65 1542.27 Q2061.48 1538.71 2061.48 1531.6 Q2061.48 1524.47 2059.65 1520.93 Q2057.84 1517.37 2054.21 1517.37 M2054.21 1513.66 Q2060.02 1513.66 2063.07 1518.27 Q2066.15 1522.85 2066.15 1531.6 Q2066.15 1540.33 2063.07 1544.94 Q2060.02 1549.52 2054.21 1549.52 Q2048.4 1549.52 2045.32 1544.94 Q2042.26 1540.33 2042.26 1531.6 Q2042.26 1522.85 2045.32 1518.27 Q2048.4 1513.66 2054.21 1513.66 Z\" fill=\"#000000\" fill-rule=\"nonzero\" fill-opacity=\"1\" /><polyline clip-path=\"url(#clip202)\" style=\"stroke:#000000; stroke-linecap:round; stroke-linejoin:round; stroke-width:2; stroke-opacity:0.1; fill:none\" points=\"169.121,1459.43 2352.76,1459.43 \"/>\n",
       "<polyline clip-path=\"url(#clip202)\" style=\"stroke:#000000; stroke-linecap:round; stroke-linejoin:round; stroke-width:2; stroke-opacity:0.1; fill:none\" points=\"169.121,1116.57 2352.76,1116.57 \"/>\n",
       "<polyline clip-path=\"url(#clip202)\" style=\"stroke:#000000; stroke-linecap:round; stroke-linejoin:round; stroke-width:2; stroke-opacity:0.1; fill:none\" points=\"169.121,773.703 2352.76,773.703 \"/>\n",
       "<polyline clip-path=\"url(#clip202)\" style=\"stroke:#000000; stroke-linecap:round; stroke-linejoin:round; stroke-width:2; stroke-opacity:0.1; fill:none\" points=\"169.121,430.84 2352.76,430.84 \"/>\n",
       "<polyline clip-path=\"url(#clip202)\" style=\"stroke:#000000; stroke-linecap:round; stroke-linejoin:round; stroke-width:2; stroke-opacity:0.1; fill:none\" points=\"169.121,87.9763 2352.76,87.9763 \"/>\n",
       "<polyline clip-path=\"url(#clip200)\" style=\"stroke:#000000; stroke-linecap:round; stroke-linejoin:round; stroke-width:4; stroke-opacity:1; fill:none\" points=\"169.121,1486.45 169.121,47.2441 \"/>\n",
       "<polyline clip-path=\"url(#clip200)\" style=\"stroke:#000000; stroke-linecap:round; stroke-linejoin:round; stroke-width:4; stroke-opacity:1; fill:none\" points=\"169.121,1459.43 188.019,1459.43 \"/>\n",
       "<polyline clip-path=\"url(#clip200)\" style=\"stroke:#000000; stroke-linecap:round; stroke-linejoin:round; stroke-width:4; stroke-opacity:1; fill:none\" points=\"169.121,1116.57 188.019,1116.57 \"/>\n",
       "<polyline clip-path=\"url(#clip200)\" style=\"stroke:#000000; stroke-linecap:round; stroke-linejoin:round; stroke-width:4; stroke-opacity:1; fill:none\" points=\"169.121,773.703 188.019,773.703 \"/>\n",
       "<polyline clip-path=\"url(#clip200)\" style=\"stroke:#000000; stroke-linecap:round; stroke-linejoin:round; stroke-width:4; stroke-opacity:1; fill:none\" points=\"169.121,430.84 188.019,430.84 \"/>\n",
       "<polyline clip-path=\"url(#clip200)\" style=\"stroke:#000000; stroke-linecap:round; stroke-linejoin:round; stroke-width:4; stroke-opacity:1; fill:none\" points=\"169.121,87.9763 188.019,87.9763 \"/>\n",
       "<path clip-path=\"url(#clip200)\" d=\"M121.177 1445.23 Q117.566 1445.23 115.737 1448.79 Q113.932 1452.34 113.932 1459.46 Q113.932 1466.57 115.737 1470.14 Q117.566 1473.68 121.177 1473.68 Q124.811 1473.68 126.617 1470.14 Q128.445 1466.57 128.445 1459.46 Q128.445 1452.34 126.617 1448.79 Q124.811 1445.23 121.177 1445.23 M121.177 1441.53 Q126.987 1441.53 130.043 1446.13 Q133.121 1450.72 133.121 1459.46 Q133.121 1468.19 130.043 1472.8 Q126.987 1477.38 121.177 1477.38 Q115.367 1477.38 112.288 1472.8 Q109.233 1468.19 109.233 1459.46 Q109.233 1450.72 112.288 1446.13 Q115.367 1441.53 121.177 1441.53 Z\" fill=\"#000000\" fill-rule=\"nonzero\" fill-opacity=\"1\" /><path clip-path=\"url(#clip200)\" d=\"M86.0382 1129.91 L102.358 1129.91 L102.358 1133.85 L80.4133 1133.85 L80.4133 1129.91 Q83.0753 1127.16 87.6586 1122.53 Q92.2651 1117.87 93.4456 1116.53 Q95.691 1114.01 96.5706 1112.27 Q97.4734 1110.51 97.4734 1108.82 Q97.4734 1106.07 95.5289 1104.33 Q93.6076 1102.6 90.5058 1102.6 Q88.3067 1102.6 85.8531 1103.36 Q83.4225 1104.12 80.6447 1105.68 L80.6447 1100.95 Q83.4688 1099.82 85.9225 1099.24 Q88.3762 1098.66 90.4132 1098.66 Q95.7836 1098.66 98.978 1101.35 Q102.172 1104.03 102.172 1108.52 Q102.172 1110.65 101.362 1112.57 Q100.575 1114.47 98.4687 1117.06 Q97.89 1117.74 94.7882 1120.95 Q91.6864 1124.15 86.0382 1129.91 Z\" fill=\"#000000\" fill-rule=\"nonzero\" fill-opacity=\"1\" /><path clip-path=\"url(#clip200)\" d=\"M112.219 1099.29 L130.575 1099.29 L130.575 1103.22 L116.501 1103.22 L116.501 1111.69 Q117.52 1111.35 118.538 1111.18 Q119.557 1111 120.575 1111 Q126.362 1111 129.742 1114.17 Q133.121 1117.34 133.121 1122.76 Q133.121 1128.34 129.649 1131.44 Q126.177 1134.52 119.857 1134.52 Q117.682 1134.52 115.413 1134.15 Q113.168 1133.78 110.76 1133.04 L110.76 1128.34 Q112.844 1129.47 115.066 1130.03 Q117.288 1130.58 119.765 1130.58 Q123.77 1130.58 126.107 1128.48 Q128.445 1126.37 128.445 1122.76 Q128.445 1119.15 126.107 1117.04 Q123.77 1114.93 119.765 1114.93 Q117.89 1114.93 116.015 1115.35 Q114.163 1115.77 112.219 1116.65 L112.219 1099.29 Z\" fill=\"#000000\" fill-rule=\"nonzero\" fill-opacity=\"1\" /><path clip-path=\"url(#clip200)\" d=\"M81.0614 756.423 L99.4178 756.423 L99.4178 760.358 L85.3438 760.358 L85.3438 768.831 Q86.3623 768.483 87.3808 768.321 Q88.3993 768.136 89.4178 768.136 Q95.2049 768.136 98.5845 771.307 Q101.964 774.479 101.964 779.895 Q101.964 785.474 98.4919 788.576 Q95.0197 791.655 88.7003 791.655 Q86.5243 791.655 84.2558 791.284 Q82.0105 790.914 79.6031 790.173 L79.6031 785.474 Q81.6864 786.608 83.9086 787.164 Q86.1308 787.719 88.6077 787.719 Q92.6123 787.719 94.9502 785.613 Q97.2882 783.506 97.2882 779.895 Q97.2882 776.284 94.9502 774.178 Q92.6123 772.071 88.6077 772.071 Q86.7327 772.071 84.8577 772.488 Q83.0058 772.905 81.0614 773.784 L81.0614 756.423 Z\" fill=\"#000000\" fill-rule=\"nonzero\" fill-opacity=\"1\" /><path clip-path=\"url(#clip200)\" d=\"M121.177 759.502 Q117.566 759.502 115.737 763.067 Q113.932 766.608 113.932 773.738 Q113.932 780.844 115.737 784.409 Q117.566 787.951 121.177 787.951 Q124.811 787.951 126.617 784.409 Q128.445 780.844 128.445 773.738 Q128.445 766.608 126.617 763.067 Q124.811 759.502 121.177 759.502 M121.177 755.798 Q126.987 755.798 130.043 760.405 Q133.121 764.988 133.121 773.738 Q133.121 782.465 130.043 787.071 Q126.987 791.655 121.177 791.655 Q115.367 791.655 112.288 787.071 Q109.233 782.465 109.233 773.738 Q109.233 764.988 112.288 760.405 Q115.367 755.798 121.177 755.798 Z\" fill=\"#000000\" fill-rule=\"nonzero\" fill-opacity=\"1\" /><path clip-path=\"url(#clip200)\" d=\"M80.8299 413.56 L103.052 413.56 L103.052 415.55 L90.5058 448.12 L85.6216 448.12 L97.4271 417.495 L80.8299 417.495 L80.8299 413.56 Z\" fill=\"#000000\" fill-rule=\"nonzero\" fill-opacity=\"1\" /><path clip-path=\"url(#clip200)\" d=\"M112.219 413.56 L130.575 413.56 L130.575 417.495 L116.501 417.495 L116.501 425.967 Q117.52 425.62 118.538 425.458 Q119.557 425.273 120.575 425.273 Q126.362 425.273 129.742 428.444 Q133.121 431.615 133.121 437.032 Q133.121 442.611 129.649 445.712 Q126.177 448.791 119.857 448.791 Q117.682 448.791 115.413 448.421 Q113.168 448.05 110.76 447.31 L110.76 442.611 Q112.844 443.745 115.066 444.3 Q117.288 444.856 119.765 444.856 Q123.77 444.856 126.107 442.749 Q128.445 440.643 128.445 437.032 Q128.445 433.421 126.107 431.314 Q123.77 429.208 119.765 429.208 Q117.89 429.208 116.015 429.624 Q114.163 430.041 112.219 430.921 L112.219 413.56 Z\" fill=\"#000000\" fill-rule=\"nonzero\" fill-opacity=\"1\" /><path clip-path=\"url(#clip200)\" d=\"M51.6634 101.321 L59.3023 101.321 L59.3023 74.9555 L50.9921 76.6222 L50.9921 72.3629 L59.256 70.6963 L63.9319 70.6963 L63.9319 101.321 L71.5707 101.321 L71.5707 105.256 L51.6634 105.256 L51.6634 101.321 Z\" fill=\"#000000\" fill-rule=\"nonzero\" fill-opacity=\"1\" /><path clip-path=\"url(#clip200)\" d=\"M91.0151 73.775 Q87.404 73.775 85.5753 77.3398 Q83.7697 80.8814 83.7697 88.011 Q83.7697 95.1174 85.5753 98.6822 Q87.404 102.224 91.0151 102.224 Q94.6493 102.224 96.4548 98.6822 Q98.2835 95.1174 98.2835 88.011 Q98.2835 80.8814 96.4548 77.3398 Q94.6493 73.775 91.0151 73.775 M91.0151 70.0713 Q96.8252 70.0713 99.8808 74.6777 Q102.959 79.261 102.959 88.011 Q102.959 96.7378 99.8808 101.344 Q96.8252 105.928 91.0151 105.928 Q85.2049 105.928 82.1262 101.344 Q79.0707 96.7378 79.0707 88.011 Q79.0707 79.261 82.1262 74.6777 Q85.2049 70.0713 91.0151 70.0713 Z\" fill=\"#000000\" fill-rule=\"nonzero\" fill-opacity=\"1\" /><path clip-path=\"url(#clip200)\" d=\"M121.177 73.775 Q117.566 73.775 115.737 77.3398 Q113.932 80.8814 113.932 88.011 Q113.932 95.1174 115.737 98.6822 Q117.566 102.224 121.177 102.224 Q124.811 102.224 126.617 98.6822 Q128.445 95.1174 128.445 88.011 Q128.445 80.8814 126.617 77.3398 Q124.811 73.775 121.177 73.775 M121.177 70.0713 Q126.987 70.0713 130.043 74.6777 Q133.121 79.261 133.121 88.011 Q133.121 96.7378 130.043 101.344 Q126.987 105.928 121.177 105.928 Q115.367 105.928 112.288 101.344 Q109.233 96.7378 109.233 88.011 Q109.233 79.261 112.288 74.6777 Q115.367 70.0713 121.177 70.0713 Z\" fill=\"#000000\" fill-rule=\"nonzero\" fill-opacity=\"1\" /><polyline clip-path=\"url(#clip202)\" style=\"stroke:#009af9; stroke-linecap:round; stroke-linejoin:round; stroke-width:4; stroke-opacity:1; fill:none\" points=\"230.922,1445.72 253.812,1442.84 276.701,1439.68 299.59,1436.25 322.479,1432.55 345.369,1428.57 368.258,1424.32 391.147,1419.8 414.036,1415 436.926,1409.92 459.815,1404.57 482.704,1398.95 505.593,1393.05 528.483,1386.88 551.372,1380.43 574.261,1373.71 597.15,1366.72 620.04,1359.45 642.929,1351.91 665.818,1344.09 688.707,1336 711.597,1327.63 734.486,1318.99 757.375,1310.08 780.264,1300.89 803.154,1291.43 826.043,1281.69 848.932,1271.68 871.821,1261.39 894.711,1250.83 917.6,1240 940.489,1228.89 963.378,1217.51 986.268,1205.85 1009.16,1193.92 1032.05,1181.71 1054.94,1169.23 1077.82,1156.48 1100.71,1143.45 1123.6,1130.14 1146.49,1116.57 1169.38,1102.72 1192.27,1088.59 1215.16,1074.19 1238.05,1059.51 1260.94,1044.57 1283.83,1029.34 1306.72,1013.84 1329.61,998.073 1352.5,982.027 1375.38,965.707 1398.27,949.112 1421.16,932.243 1444.05,915.1 1466.94,897.683 1489.83,879.991 1512.72,862.025 1535.61,843.785 1558.5,825.27 1581.39,806.481 1604.28,787.418 1627.17,768.08 1650.06,748.469 1672.95,728.582 1695.83,708.422 1718.72,687.987 1741.61,667.278 1764.5,646.295 1787.39,625.038 1810.28,603.506 1833.17,581.7 1856.06,559.619 1878.95,537.265 1901.84,514.636 1924.73,491.732 1947.62,468.555 1970.51,445.103 1993.39,421.377 2016.28,397.376 2039.17,373.102 2062.06,348.553 2084.95,323.729 2107.84,298.632 2130.73,273.26 2153.62,247.614 2176.51,221.693 2199.4,195.498 2222.29,169.029 2245.18,142.286 2268.07,115.268 2290.95,87.9763 \"/>\n",
       "<path clip-path=\"url(#clip200)\" d=\"M241.909 198.898 L512.703 198.898 L512.703 95.2176 L241.909 95.2176  Z\" fill=\"#ffffff\" fill-rule=\"evenodd\" fill-opacity=\"1\"/>\n",
       "<polyline clip-path=\"url(#clip200)\" style=\"stroke:#000000; stroke-linecap:round; stroke-linejoin:round; stroke-width:4; stroke-opacity:1; fill:none\" points=\"241.909,198.898 512.703,198.898 512.703,95.2176 241.909,95.2176 241.909,198.898 \"/>\n",
       "<polyline clip-path=\"url(#clip200)\" style=\"stroke:#009af9; stroke-linecap:round; stroke-linejoin:round; stroke-width:4; stroke-opacity:1; fill:none\" points=\"266.172,147.058 411.747,147.058 \"/>\n",
       "<path clip-path=\"url(#clip200)\" d=\"M449.853 166.745 Q448.047 171.375 446.334 172.787 Q444.621 174.199 441.751 174.199 L438.348 174.199 L438.348 170.634 L440.848 170.634 Q442.607 170.634 443.579 169.8 Q444.552 168.967 445.732 165.865 L446.496 163.921 L436.01 138.412 L440.524 138.412 L448.626 158.689 L456.727 138.412 L461.241 138.412 L449.853 166.745 Z\" fill=\"#000000\" fill-rule=\"nonzero\" fill-opacity=\"1\" /><path clip-path=\"url(#clip200)\" d=\"M468.533 160.402 L476.172 160.402 L476.172 134.037 L467.862 135.703 L467.862 131.444 L476.126 129.778 L480.801 129.778 L480.801 160.402 L488.44 160.402 L488.44 164.338 L468.533 164.338 L468.533 160.402 Z\" fill=\"#000000\" fill-rule=\"nonzero\" fill-opacity=\"1\" /></svg>\n"
      ]
     },
     "metadata": {},
     "output_type": "display_data"
    }
   ],
   "source": [
    "using Plots, Catlab\n",
    "\n",
    "z = [x^2 for x in 1:0.1:10]\n",
    "p = Plots.plot(z)\n",
    "Plots.display(p)"
   ]
  },
  {
   "cell_type": "code",
   "execution_count": 2,
   "metadata": {},
   "outputs": [
    {
     "data": {
      "image/svg+xml": [
       "<?xml version=\"1.0\" encoding=\"UTF-8\" standalone=\"no\"?>\r\n",
       "<!DOCTYPE svg PUBLIC \"-//W3C//DTD SVG 1.1//EN\"\r\n",
       " \"http://www.w3.org/Graphics/SVG/1.1/DTD/svg11.dtd\">\r\n",
       "<!-- Generated by graphviz version 10.0.1 (20240210.2158)\r\n",
       " -->\r\n",
       "<!-- Title: G Pages: 1 -->\r\n",
       "<svg width=\"91pt\" height=\"27pt\"\r\n",
       " viewBox=\"0.00 0.00 90.80 26.60\" xmlns=\"http://www.w3.org/2000/svg\" xmlns:xlink=\"http://www.w3.org/1999/xlink\">\r\n",
       "<g id=\"graph0\" class=\"graph\" transform=\"scale(1 1) rotate(0) translate(4 22.6)\">\r\n",
       "<title>G</title>\r\n",
       "<polygon fill=\"white\" stroke=\"none\" points=\"-4,4 -4,-22.6 86.8,-22.6 86.8,4 -4,4\"/>\r\n",
       "<!-- n1 -->\r\n",
       "<g id=\"node1\" class=\"node\">\r\n",
       "<title>n1</title>\r\n",
       "<ellipse fill=\"black\" stroke=\"black\" cx=\"1.8\" cy=\"-1.8\" rx=\"1.8\" ry=\"1.8\"/>\r\n",
       "</g>\r\n",
       "<!-- n2 -->\r\n",
       "<g id=\"node2\" class=\"node\">\r\n",
       "<title>n2</title>\r\n",
       "<ellipse fill=\"black\" stroke=\"black\" cx=\"41.4\" cy=\"-16.8\" rx=\"1.8\" ry=\"1.8\"/>\r\n",
       "</g>\r\n",
       "<!-- n1&#45;&gt;n2 -->\r\n",
       "<g id=\"edge1\" class=\"edge\">\r\n",
       "<title>n1&#45;&gt;n2</title>\r\n",
       "<path fill=\"none\" stroke=\"black\" d=\"M3.73,-2.17C7.79,-3.79 24.17,-10.33 33.61,-14.09\"/>\r\n",
       "<polygon fill=\"black\" stroke=\"black\" points=\"32.93,-15.71 38.23,-15.93 34.23,-12.45 32.93,-15.71\"/>\r\n",
       "</g>\r\n",
       "<!-- n3 -->\r\n",
       "<g id=\"node3\" class=\"node\">\r\n",
       "<title>n3</title>\r\n",
       "<ellipse fill=\"black\" stroke=\"black\" cx=\"81\" cy=\"-1.8\" rx=\"1.8\" ry=\"1.8\"/>\r\n",
       "</g>\r\n",
       "<!-- n2&#45;&gt;n3 -->\r\n",
       "<g id=\"edge2\" class=\"edge\">\r\n",
       "<title>n2&#45;&gt;n3</title>\r\n",
       "<path fill=\"none\" stroke=\"black\" d=\"M43.33,-16.43C47.39,-14.81 63.77,-8.27 73.21,-4.51\"/>\r\n",
       "<polygon fill=\"black\" stroke=\"black\" points=\"73.83,-6.15 77.83,-2.67 72.53,-2.89 73.83,-6.15\"/>\r\n",
       "</g>\r\n",
       "<!-- n3&#45;&gt;n1 -->\r\n",
       "<g id=\"edge3\" class=\"edge\">\r\n",
       "<title>n3&#45;&gt;n1</title>\r\n",
       "<path fill=\"none\" stroke=\"black\" d=\"M78.84,-1.8C71.18,-1.8 27.72,-1.8 10.16,-1.8\"/>\r\n",
       "<polygon fill=\"black\" stroke=\"black\" points=\"10.4,-0.05 5.4,-1.8 10.4,-3.55 10.4,-0.05\"/>\r\n",
       "</g>\r\n",
       "</g>\r\n",
       "</svg>\r\n"
      ],
      "text/plain": [
       "Catlab.Graphics.Graphviz.Graph(\"G\", true, \"dot\", Catlab.Graphics.Graphviz.Statement[Catlab.Graphics.Graphviz.Node(\"n1\", OrderedCollections.OrderedDict{Symbol, Union{String, Catlab.Graphics.Graphviz.Html}}(:label => \"\")), Catlab.Graphics.Graphviz.Node(\"n2\", OrderedCollections.OrderedDict{Symbol, Union{String, Catlab.Graphics.Graphviz.Html}}(:label => \"\")), Catlab.Graphics.Graphviz.Node(\"n3\", OrderedCollections.OrderedDict{Symbol, Union{String, Catlab.Graphics.Graphviz.Html}}(:label => \"\")), Catlab.Graphics.Graphviz.Edge(Catlab.Graphics.Graphviz.NodeID[Catlab.Graphics.Graphviz.NodeID(\"n1\", \"\", \"\"), Catlab.Graphics.Graphviz.NodeID(\"n2\", \"\", \"\")], OrderedCollections.OrderedDict{Symbol, Union{String, Catlab.Graphics.Graphviz.Html}}()), Catlab.Graphics.Graphviz.Edge(Catlab.Graphics.Graphviz.NodeID[Catlab.Graphics.Graphviz.NodeID(\"n2\", \"\", \"\"), Catlab.Graphics.Graphviz.NodeID(\"n3\", \"\", \"\")], OrderedCollections.OrderedDict{Symbol, Union{String, Catlab.Graphics.Graphviz.Html}}()), Catlab.Graphics.Graphviz.Edge(Catlab.Graphics.Graphviz.NodeID[Catlab.Graphics.Graphviz.NodeID(\"n3\", \"\", \"\"), Catlab.Graphics.Graphviz.NodeID(\"n1\", \"\", \"\")], OrderedCollections.OrderedDict{Symbol, Union{String, Catlab.Graphics.Graphviz.Html}}())], OrderedCollections.OrderedDict{Symbol, Union{String, Catlab.Graphics.Graphviz.Html}}(:rankdir => \"LR\"), OrderedCollections.OrderedDict{Symbol, Union{String, Catlab.Graphics.Graphviz.Html}}(:height => \"0.05\", :margin => \"0\", :shape => \"point\", :width => \"0.05\"), OrderedCollections.OrderedDict{Symbol, Union{String, Catlab.Graphics.Graphviz.Html}}(:arrowsize => \"0.5\"))"
      ]
     },
     "metadata": {},
     "output_type": "display_data"
    }
   ],
   "source": [
    "using Catlab.Graphs, Catlab.Graphics\n",
    "\n",
    "g = cycle_graph(Graph, 3)\n",
    "to_graphviz(g)"
   ]
  },
  {
   "cell_type": "code",
   "execution_count": 3,
   "metadata": {},
   "outputs": [],
   "source": [
    "using Catlab.WiringDiagrams, Catlab.Graphics\n",
    "\n",
    "import Convex, SCS\n",
    "import TikzPictures"
   ]
  },
  {
   "cell_type": "code",
   "execution_count": 4,
   "metadata": {},
   "outputs": [],
   "source": [
    "using Catlab.Theories\n",
    "\n",
    "A, B, C, D = Ob(FreeSymmetricMonoidalCategory, :A, :B, :C, :D)\n",
    "f, g = Hom(:f, A, B), Hom(:g, B, A);"
   ]
  },
  {
   "cell_type": "code",
   "execution_count": 5,
   "metadata": {},
   "outputs": [
    {
     "data": {
      "image/svg+xml": [
       "<?xml version=\"1.0\" encoding=\"UTF-8\"?>\n",
       "<svg xmlns=\"http://www.w3.org/2000/svg\" xmlns:xlink=\"http://www.w3.org/1999/xlink\" width=\"69.227pt\" height=\"45.354pt\" viewBox=\"0 0 69.227 45.354\" version=\"1.2\">\n",
       "<defs>\n",
       "<g>\n",
       "<symbol overflow=\"visible\" id=\"glyph-1709235269817000-0-0\">\n",
       "<path style=\"stroke:none;\" d=\"\"/>\n",
       "</symbol>\n",
       "<symbol overflow=\"visible\" id=\"glyph-1709235269817000-0-1\">\n",
       "<path style=\"stroke:none;\" d=\"M 3.609375 -3.9375 L 4.453125 -3.9375 C 4.65625 -3.9375 4.75 -3.9375 4.75 -4.125 C 4.75 -4.234375 4.65625 -4.234375 4.484375 -4.234375 L 3.671875 -4.234375 L 3.875 -5.359375 C 3.90625 -5.5625 4.046875 -6.265625 4.109375 -6.375 C 4.203125 -6.5625 4.359375 -6.71875 4.5625 -6.71875 C 4.609375 -6.71875 4.859375 -6.71875 5.046875 -6.53125 C 4.625 -6.5 4.515625 -6.15625 4.515625 -6 C 4.515625 -5.78125 4.703125 -5.65625 4.890625 -5.65625 C 5.140625 -5.65625 5.421875 -5.875 5.421875 -6.25 C 5.421875 -6.703125 4.96875 -6.921875 4.5625 -6.921875 C 4.234375 -6.921875 3.609375 -6.75 3.328125 -5.78125 C 3.265625 -5.578125 3.234375 -5.46875 3 -4.234375 L 2.3125 -4.234375 C 2.125 -4.234375 2.03125 -4.234375 2.03125 -4.046875 C 2.03125 -3.9375 2.109375 -3.9375 2.296875 -3.9375 L 2.953125 -3.9375 L 2.21875 -0.046875 C 2.03125 0.90625 1.875 1.796875 1.359375 1.796875 C 1.3125 1.796875 1.078125 1.796875 0.890625 1.625 C 1.34375 1.59375 1.421875 1.234375 1.421875 1.09375 C 1.421875 0.859375 1.25 0.75 1.0625 0.75 C 0.8125 0.75 0.515625 0.96875 0.515625 1.34375 C 0.515625 1.78125 0.953125 2.015625 1.359375 2.015625 C 1.890625 2.015625 2.296875 1.4375 2.46875 1.0625 C 2.78125 0.4375 3 -0.75 3.015625 -0.8125 Z M 3.609375 -3.9375 \"/>\n",
       "</symbol>\n",
       "<symbol overflow=\"visible\" id=\"glyph-1709235269817000-0-2\">\n",
       "<path style=\"stroke:none;\" d=\"M 1.765625 -1.125 C 1.359375 -0.46875 0.984375 -0.328125 0.546875 -0.296875 C 0.4375 -0.296875 0.34375 -0.296875 0.34375 -0.109375 C 0.34375 -0.046875 0.390625 0 0.46875 0 C 0.734375 0 1.046875 -0.03125 1.3125 -0.03125 C 1.640625 -0.03125 1.984375 0 2.296875 0 C 2.359375 0 2.484375 0 2.484375 -0.1875 C 2.484375 -0.296875 2.390625 -0.296875 2.328125 -0.296875 C 2.109375 -0.328125 1.875 -0.40625 1.875 -0.65625 C 1.875 -0.765625 1.921875 -0.875 2 -1.015625 L 2.75 -2.265625 L 5.21875 -2.265625 C 5.234375 -2.0625 5.375 -0.734375 5.375 -0.625 C 5.375 -0.328125 4.859375 -0.296875 4.671875 -0.296875 C 4.53125 -0.296875 4.4375 -0.296875 4.4375 -0.109375 C 4.4375 0 4.546875 0 4.5625 0 C 4.96875 0 5.390625 -0.03125 5.796875 -0.03125 C 6.046875 -0.03125 6.65625 0 6.90625 0 C 6.96875 0 7.09375 0 7.09375 -0.203125 C 7.09375 -0.296875 6.984375 -0.296875 6.859375 -0.296875 C 6.25 -0.296875 6.25 -0.375 6.21875 -0.65625 L 5.625 -6.796875 C 5.609375 -7 5.609375 -7.03125 5.4375 -7.03125 C 5.28125 -7.03125 5.234375 -6.96875 5.171875 -6.875 Z M 2.9375 -2.578125 L 4.875 -5.8125 L 5.1875 -2.578125 Z M 2.9375 -2.578125 \"/>\n",
       "</symbol>\n",
       "<symbol overflow=\"visible\" id=\"glyph-1709235269817000-0-3\">\n",
       "<path style=\"stroke:none;\" d=\"M 1.578125 -0.765625 C 1.46875 -0.390625 1.453125 -0.296875 0.671875 -0.296875 C 0.515625 -0.296875 0.40625 -0.296875 0.40625 -0.109375 C 0.40625 0 0.5 0 0.671875 0 L 4.1875 0 C 5.734375 0 6.90625 -1.15625 6.90625 -2.125 C 6.90625 -2.828125 6.328125 -3.40625 5.375 -3.515625 C 6.390625 -3.703125 7.4375 -4.421875 7.4375 -5.359375 C 7.4375 -6.078125 6.78125 -6.71875 5.609375 -6.71875 L 2.296875 -6.71875 C 2.109375 -6.71875 2.015625 -6.71875 2.015625 -6.515625 C 2.015625 -6.40625 2.109375 -6.40625 2.296875 -6.40625 C 2.3125 -6.40625 2.5 -6.40625 2.65625 -6.390625 C 2.84375 -6.375 2.921875 -6.359375 2.921875 -6.234375 C 2.921875 -6.1875 2.921875 -6.15625 2.890625 -6.046875 Z M 3.0625 -3.59375 L 3.671875 -6.03125 C 3.75 -6.375 3.78125 -6.40625 4.203125 -6.40625 L 5.46875 -6.40625 C 6.328125 -6.40625 6.53125 -5.828125 6.53125 -5.390625 C 6.53125 -4.53125 5.6875 -3.59375 4.484375 -3.59375 Z M 2.609375 -0.296875 C 2.484375 -0.296875 2.453125 -0.296875 2.390625 -0.3125 C 2.296875 -0.328125 2.265625 -0.328125 2.265625 -0.40625 C 2.265625 -0.4375 2.265625 -0.46875 2.3125 -0.640625 L 3 -3.375 L 4.859375 -3.375 C 5.796875 -3.375 5.984375 -2.65625 5.984375 -2.234375 C 5.984375 -1.265625 5.109375 -0.296875 3.953125 -0.296875 Z M 2.609375 -0.296875 \"/>\n",
       "</symbol>\n",
       "</g>\n",
       "<clipPath id=\"clip-1709235269817000-1\">\n",
       "  <path d=\"M 0.105469 14 L 32 14 L 32 31 L 0.105469 31 Z M 0.105469 14 \"/>\n",
       "</clipPath>\n",
       "<clipPath id=\"clip-1709235269817000-2\">\n",
       "  <path d=\"M 37 14 L 68.359375 14 L 68.359375 31 L 37 31 Z M 37 14 \"/>\n",
       "</clipPath>\n",
       "</defs>\n",
       "<g id=\"surface1\">\n",
       "<path style=\"fill:none;stroke-width:0.59776;stroke-linecap:butt;stroke-linejoin:miter;stroke:rgb(0%,0%,0%);stroke-opacity:1;stroke-miterlimit:10;\" d=\"M 7.351778 11.338075 L -7.354752 11.338075 C -9.553601 11.338075 -11.340412 9.555225 -11.340412 7.352415 L -11.340412 -7.354116 C -11.340412 -9.552965 -9.553601 -11.339776 -7.354752 -11.339776 L 7.351778 -11.339776 C 9.554589 -11.339776 11.337438 -9.552965 11.337438 -7.354116 L 11.337438 7.352415 C 11.337438 9.555225 9.554589 11.338075 7.351778 11.338075 Z M 7.351778 11.338075 \" transform=\"matrix(0.985957,0,0,-0.985957,34.231935,22.358536)\"/>\n",
       "<g style=\"fill:rgb(0%,0%,0%);fill-opacity:1;\">\n",
       "  <use xlink:href=\"#glyph-1709235269817000-0-1\" x=\"31.298714\" y=\"24.814554\"/>\n",
       "</g>\n",
       "<g clip-path=\"url(#clip-1709235269817000-1)\" clip-rule=\"nonzero\">\n",
       "<path style=\"fill:none;stroke-width:0.59776;stroke-linecap:butt;stroke-linejoin:miter;stroke:rgb(0%,0%,0%);stroke-opacity:1;stroke-miterlimit:10;\" d=\"M -34.315405 -0.000850906 C -25.472469 -0.000850906 -20.48049 -0.000850906 -11.637554 -0.000850906 \" transform=\"matrix(0.985957,0,0,-0.985957,34.231935,22.358536)\"/>\n",
       "</g>\n",
       "<g style=\"fill:rgb(0%,0%,0%);fill-opacity:1;\">\n",
       "  <use xlink:href=\"#glyph-1709235269817000-0-2\" x=\"7.895064\" y=\"18.789373\"/>\n",
       "</g>\n",
       "<g clip-path=\"url(#clip-1709235269817000-2)\" clip-rule=\"nonzero\">\n",
       "<path style=\"fill:none;stroke-width:0.59776;stroke-linecap:butt;stroke-linejoin:miter;stroke:rgb(0%,0%,0%);stroke-opacity:1;stroke-miterlimit:10;\" d=\"M 11.638542 -0.000850906 C 20.481478 -0.000850906 25.473457 -0.000850906 34.316393 -0.000850906 \" transform=\"matrix(0.985957,0,0,-0.985957,34.231935,22.358536)\"/>\n",
       "</g>\n",
       "<g style=\"fill:rgb(0%,0%,0%);fill-opacity:1;\">\n",
       "  <use xlink:href=\"#glyph-1709235269817000-0-3\" x=\"52.913839\" y=\"18.789373\"/>\n",
       "</g>\n",
       "</g>\n",
       "</svg>\n",
       "\n"
      ],
      "text/plain": [
       "Catlab.Graphics.TikZ.Document(Catlab.Graphics.TikZ.Picture(Catlab.Graphics.TikZ.Statement[Catlab.Graphics.TikZ.Node(\"root\", Catlab.Graphics.TikZ.Property[Catlab.Graphics.TikZ.Property(\"outer box\", nothing), Catlab.Graphics.TikZ.Property(\"minimum width\", \"6\\\\tikzunit\"), Catlab.Graphics.TikZ.Property(\"minimum height\", \"4\\\\tikzunit\")], Catlab.Graphics.TikZ.Coordinate(\"0\", \"0\"), \"\"), Catlab.Graphics.TikZ.Node(\"n1\", Catlab.Graphics.TikZ.Property[Catlab.Graphics.TikZ.Property(\"box\", nothing), Catlab.Graphics.TikZ.Property(\"minimum size\", \"2\\\\tikzunit\")], Catlab.Graphics.TikZ.Coordinate(\"0\", \"0\"), \"\\$f\\$\"), Catlab.Graphics.TikZ.Edge(Catlab.Graphics.TikZ.PathExpression[Catlab.Graphics.TikZ.NodeCoordinate(\"root.west\"), Catlab.Graphics.TikZ.PathOperation(\"to\", Catlab.Graphics.TikZ.Property[Catlab.Graphics.TikZ.Property(\"out\", \"0\"), Catlab.Graphics.TikZ.Property(\"in\", \"-180\")]), Catlab.Graphics.TikZ.NodeCoordinate(\"n1.west\")], Catlab.Graphics.TikZ.Property[Catlab.Graphics.TikZ.Property(\"wire\", \"{\\\\node[anchor=south] {\\$A\\$};}\")]), Catlab.Graphics.TikZ.Edge(Catlab.Graphics.TikZ.PathExpression[Catlab.Graphics.TikZ.NodeCoordinate(\"n1.east\"), Catlab.Graphics.TikZ.PathOperation(\"to\", Catlab.Graphics.TikZ.Property[Catlab.Graphics.TikZ.Property(\"out\", \"0\"), Catlab.Graphics.TikZ.Property(\"in\", \"180\")]), Catlab.Graphics.TikZ.NodeCoordinate(\"root.east\")], Catlab.Graphics.TikZ.Property[Catlab.Graphics.TikZ.Property(\"wire\", \"{\\\\node[anchor=south] {\\$B\\$};}\")])], Catlab.Graphics.TikZ.Property[Catlab.Graphics.TikZ.Property(\"unit length/.code\", \"{{\\\\newdimen\\\\tikzunit}\\\\setlength{\\\\tikzunit}{#1}}\"), Catlab.Graphics.TikZ.Property(\"unit length\", \"4mm\"), Catlab.Graphics.TikZ.Property(\"x\", \"\\\\tikzunit\"), Catlab.Graphics.TikZ.Property(\"y\", \"\\\\tikzunit\"), Catlab.Graphics.TikZ.Property(\"semithick\", nothing), Catlab.Graphics.TikZ.Property(\"box/.style\", Catlab.Graphics.TikZ.Property[Catlab.Graphics.TikZ.Property(\"rectangle\", nothing), Catlab.Graphics.TikZ.Property(\"draw\", nothing), Catlab.Graphics.TikZ.Property(\"solid\", nothing), Catlab.Graphics.TikZ.Property(\"rounded corners\", nothing)]), Catlab.Graphics.TikZ.Property(\"outer box/.style\", Catlab.Graphics.TikZ.Property[Catlab.Graphics.TikZ.Property(\"draw\", \"none\")]), Catlab.Graphics.TikZ.Property(\"wire/.style\", Catlab.Graphics.TikZ.Property[Catlab.Graphics.TikZ.Property(\"draw\", nothing), Catlab.Graphics.TikZ.Property(\"postaction\", Catlab.Graphics.TikZ.Property[Catlab.Graphics.TikZ.Property(\"decorate\", nothing)]), Catlab.Graphics.TikZ.Property(\"decoration\", Catlab.Graphics.TikZ.Property[Catlab.Graphics.TikZ.Property(\"markings\", nothing), Catlab.Graphics.TikZ.Property(\"mark\", \"at position 0.5 with {#1}\")])])]), [\"calc\", \"shapes.geometric\", \"decorations.markings\"], [\"amssymb\"])"
      ]
     },
     "metadata": {},
     "output_type": "display_data"
    }
   ],
   "source": [
    "to_tikz(f, labels=true)"
   ]
  },
  {
   "cell_type": "code",
   "execution_count": 6,
   "metadata": {},
   "outputs": [
    {
     "data": {
      "image/svg+xml": [
       "<?xml version=\"1.0\" encoding=\"UTF-8\"?>\n",
       "<svg xmlns=\"http://www.w3.org/2000/svg\" xmlns:xlink=\"http://www.w3.org/1999/xlink\" width=\"114.581pt\" height=\"45.354pt\" viewBox=\"0 0 114.581 45.354\" version=\"1.2\">\n",
       "<defs>\n",
       "<g>\n",
       "<symbol overflow=\"visible\" id=\"glyph-1709235269817001-0-0\">\n",
       "<path style=\"stroke:none;\" d=\"\"/>\n",
       "</symbol>\n",
       "<symbol overflow=\"visible\" id=\"glyph-1709235269817001-0-1\">\n",
       "<path style=\"stroke:none;\" d=\"M 3.609375 -3.9375 L 4.453125 -3.9375 C 4.65625 -3.9375 4.75 -3.9375 4.75 -4.125 C 4.75 -4.234375 4.65625 -4.234375 4.484375 -4.234375 L 3.671875 -4.234375 L 3.875 -5.359375 C 3.90625 -5.5625 4.046875 -6.265625 4.109375 -6.375 C 4.203125 -6.5625 4.359375 -6.71875 4.5625 -6.71875 C 4.609375 -6.71875 4.859375 -6.71875 5.046875 -6.53125 C 4.625 -6.5 4.515625 -6.15625 4.515625 -6 C 4.515625 -5.78125 4.703125 -5.65625 4.890625 -5.65625 C 5.140625 -5.65625 5.421875 -5.875 5.421875 -6.25 C 5.421875 -6.703125 4.96875 -6.921875 4.5625 -6.921875 C 4.234375 -6.921875 3.609375 -6.75 3.328125 -5.78125 C 3.265625 -5.578125 3.234375 -5.46875 3 -4.234375 L 2.3125 -4.234375 C 2.125 -4.234375 2.03125 -4.234375 2.03125 -4.046875 C 2.03125 -3.9375 2.109375 -3.9375 2.296875 -3.9375 L 2.953125 -3.9375 L 2.21875 -0.046875 C 2.03125 0.90625 1.875 1.796875 1.359375 1.796875 C 1.3125 1.796875 1.078125 1.796875 0.890625 1.625 C 1.34375 1.59375 1.421875 1.234375 1.421875 1.09375 C 1.421875 0.859375 1.25 0.75 1.0625 0.75 C 0.8125 0.75 0.515625 0.96875 0.515625 1.34375 C 0.515625 1.78125 0.953125 2.015625 1.359375 2.015625 C 1.890625 2.015625 2.296875 1.4375 2.46875 1.0625 C 2.78125 0.4375 3 -0.75 3.015625 -0.8125 Z M 3.609375 -3.9375 \"/>\n",
       "</symbol>\n",
       "<symbol overflow=\"visible\" id=\"glyph-1709235269817001-0-2\">\n",
       "<path style=\"stroke:none;\" d=\"M 4.625 -3.703125 C 4.640625 -3.765625 4.65625 -3.8125 4.65625 -3.875 C 4.65625 -4.046875 4.546875 -4.140625 4.375 -4.140625 C 4.28125 -4.140625 4.015625 -4.078125 3.96875 -3.71875 C 3.796875 -4.09375 3.453125 -4.34375 3.0625 -4.34375 C 1.9375 -4.34375 0.71875 -2.96875 0.71875 -1.546875 C 0.71875 -0.578125 1.3125 0 2.03125 0 C 2.609375 0 3.0625 -0.46875 3.171875 -0.5625 C 2.96875 0.3125 2.84375 0.71875 2.84375 0.734375 C 2.8125 0.828125 2.484375 1.796875 1.4375 1.796875 C 1.25 1.796875 0.921875 1.78125 0.65625 1.703125 C 0.9375 1.609375 1.046875 1.359375 1.046875 1.1875 C 1.046875 1.03125 0.9375 0.84375 0.671875 0.84375 C 0.46875 0.84375 0.140625 1.015625 0.140625 1.421875 C 0.140625 1.8125 0.515625 2.015625 1.453125 2.015625 C 2.6875 2.015625 3.390625 1.25 3.53125 0.65625 Z M 3.34375 -1.265625 C 3.296875 -1 3.0625 -0.75 2.84375 -0.5625 C 2.640625 -0.390625 2.34375 -0.21875 2.046875 -0.21875 C 1.5625 -0.21875 1.421875 -0.734375 1.421875 -1.125 C 1.421875 -1.59375 1.703125 -2.75 1.96875 -3.25 C 2.234375 -3.734375 2.65625 -4.125 3.0625 -4.125 C 3.71875 -4.125 3.859375 -3.328125 3.859375 -3.28125 C 3.859375 -3.234375 3.828125 -3.171875 3.828125 -3.140625 Z M 3.34375 -1.265625 \"/>\n",
       "</symbol>\n",
       "<symbol overflow=\"visible\" id=\"glyph-1709235269817001-0-3\">\n",
       "<path style=\"stroke:none;\" d=\"M 1.765625 -1.125 C 1.359375 -0.46875 0.984375 -0.328125 0.546875 -0.296875 C 0.4375 -0.296875 0.34375 -0.296875 0.34375 -0.109375 C 0.34375 -0.046875 0.390625 0 0.46875 0 C 0.734375 0 1.046875 -0.03125 1.3125 -0.03125 C 1.640625 -0.03125 1.984375 0 2.296875 0 C 2.359375 0 2.484375 0 2.484375 -0.1875 C 2.484375 -0.296875 2.390625 -0.296875 2.328125 -0.296875 C 2.109375 -0.328125 1.875 -0.40625 1.875 -0.65625 C 1.875 -0.765625 1.921875 -0.875 2 -1.015625 L 2.75 -2.265625 L 5.21875 -2.265625 C 5.234375 -2.0625 5.375 -0.734375 5.375 -0.625 C 5.375 -0.328125 4.859375 -0.296875 4.671875 -0.296875 C 4.53125 -0.296875 4.4375 -0.296875 4.4375 -0.109375 C 4.4375 0 4.546875 0 4.5625 0 C 4.96875 0 5.390625 -0.03125 5.796875 -0.03125 C 6.046875 -0.03125 6.65625 0 6.90625 0 C 6.96875 0 7.09375 0 7.09375 -0.203125 C 7.09375 -0.296875 6.984375 -0.296875 6.859375 -0.296875 C 6.25 -0.296875 6.25 -0.375 6.21875 -0.65625 L 5.625 -6.796875 C 5.609375 -7 5.609375 -7.03125 5.4375 -7.03125 C 5.28125 -7.03125 5.234375 -6.96875 5.171875 -6.875 Z M 2.9375 -2.578125 L 4.875 -5.8125 L 5.1875 -2.578125 Z M 2.9375 -2.578125 \"/>\n",
       "</symbol>\n",
       "<symbol overflow=\"visible\" id=\"glyph-1709235269817001-0-4\">\n",
       "<path style=\"stroke:none;\" d=\"M 1.578125 -0.765625 C 1.46875 -0.390625 1.453125 -0.296875 0.671875 -0.296875 C 0.515625 -0.296875 0.40625 -0.296875 0.40625 -0.109375 C 0.40625 0 0.5 0 0.671875 0 L 4.1875 0 C 5.734375 0 6.90625 -1.15625 6.90625 -2.125 C 6.90625 -2.828125 6.328125 -3.40625 5.375 -3.515625 C 6.390625 -3.703125 7.4375 -4.421875 7.4375 -5.359375 C 7.4375 -6.078125 6.78125 -6.71875 5.609375 -6.71875 L 2.296875 -6.71875 C 2.109375 -6.71875 2.015625 -6.71875 2.015625 -6.515625 C 2.015625 -6.40625 2.109375 -6.40625 2.296875 -6.40625 C 2.3125 -6.40625 2.5 -6.40625 2.65625 -6.390625 C 2.84375 -6.375 2.921875 -6.359375 2.921875 -6.234375 C 2.921875 -6.1875 2.921875 -6.15625 2.890625 -6.046875 Z M 3.0625 -3.59375 L 3.671875 -6.03125 C 3.75 -6.375 3.78125 -6.40625 4.203125 -6.40625 L 5.46875 -6.40625 C 6.328125 -6.40625 6.53125 -5.828125 6.53125 -5.390625 C 6.53125 -4.53125 5.6875 -3.59375 4.484375 -3.59375 Z M 2.609375 -0.296875 C 2.484375 -0.296875 2.453125 -0.296875 2.390625 -0.3125 C 2.296875 -0.328125 2.265625 -0.328125 2.265625 -0.40625 C 2.265625 -0.4375 2.265625 -0.46875 2.3125 -0.640625 L 3 -3.375 L 4.859375 -3.375 C 5.796875 -3.375 5.984375 -2.65625 5.984375 -2.234375 C 5.984375 -1.265625 5.109375 -0.296875 3.953125 -0.296875 Z M 2.609375 -0.296875 \"/>\n",
       "</symbol>\n",
       "</g>\n",
       "<clipPath id=\"clip-1709235269817001-1\">\n",
       "  <path d=\"M 0.597656 14 L 32 14 L 32 31 L 0.597656 31 Z M 0.597656 14 \"/>\n",
       "</clipPath>\n",
       "<clipPath id=\"clip-1709235269817001-2\">\n",
       "  <path d=\"M 82 14 L 113.570313 14 L 113.570313 31 L 82 31 Z M 82 14 \"/>\n",
       "</clipPath>\n",
       "</defs>\n",
       "<g id=\"surface1\">\n",
       "<path style=\"fill:none;stroke-width:0.59776;stroke-linecap:butt;stroke-linejoin:miter;stroke:rgb(0%,0%,0%);stroke-opacity:1;stroke-miterlimit:10;\" d=\"M -15.323062 11.338075 L -30.029593 11.338075 C -32.232403 11.338075 -34.015253 9.555225 -34.015253 7.352415 L -34.015253 -7.354116 C -34.015253 -9.552965 -32.232403 -11.339776 -30.029593 -11.339776 L -15.323062 -11.339776 C -13.124213 -11.339776 -11.337402 -9.552965 -11.337402 -7.354116 L -11.337402 7.352415 C -11.337402 9.555225 -13.124213 11.338075 -15.323062 11.338075 Z M -15.323062 11.338075 \" transform=\"matrix(0.985957,0,0,-0.985957,57.084435,22.358536)\"/>\n",
       "<g style=\"fill:rgb(0%,0%,0%);fill-opacity:1;\">\n",
       "  <use xlink:href=\"#glyph-1709235269817001-0-1\" x=\"31.791692\" y=\"24.814554\"/>\n",
       "</g>\n",
       "<path style=\"fill:none;stroke-width:0.59776;stroke-linecap:butt;stroke-linejoin:miter;stroke:rgb(0%,0%,0%);stroke-opacity:1;stroke-miterlimit:10;\" d=\"M 30.03264 11.338075 L 15.322147 11.338075 C 13.123299 11.338075 11.340449 9.555225 11.340449 7.352415 L 11.340449 -7.354116 C 11.340449 -9.552965 13.123299 -11.339776 15.322147 -11.339776 L 30.03264 -11.339776 C 32.231488 -11.339776 34.014338 -9.552965 34.014338 -7.354116 L 34.014338 7.352415 C 34.014338 9.555225 32.231488 11.338075 30.03264 11.338075 Z M 30.03264 11.338075 \" transform=\"matrix(0.985957,0,0,-0.985957,57.084435,22.358536)\"/>\n",
       "<g style=\"fill:rgb(0%,0%,0%);fill-opacity:1;\">\n",
       "  <use xlink:href=\"#glyph-1709235269817001-0-2\" x=\"76.923852\" y=\"23.518021\"/>\n",
       "</g>\n",
       "<g clip-path=\"url(#clip-1709235269817001-1)\" clip-rule=\"nonzero\">\n",
       "<path style=\"fill:none;stroke-width:0.59776;stroke-linecap:butt;stroke-linejoin:miter;stroke:rgb(0%,0%,0%);stroke-opacity:1;stroke-miterlimit:10;\" d=\"M -56.994207 -0.000850906 C -48.14731 -0.000850906 -43.159292 -0.000850906 -34.316356 -0.000850906 \" transform=\"matrix(0.985957,0,0,-0.985957,57.084435,22.358536)\"/>\n",
       "</g>\n",
       "<g style=\"fill:rgb(0%,0%,0%);fill-opacity:1;\">\n",
       "  <use xlink:href=\"#glyph-1709235269817001-0-3\" x=\"8.388042\" y=\"18.789373\"/>\n",
       "</g>\n",
       "<path style=\"fill:none;stroke-width:0.59776;stroke-linecap:butt;stroke-linejoin:miter;stroke:rgb(0%,0%,0%);stroke-opacity:1;stroke-miterlimit:10;\" d=\"M -11.04026 -0.000850906 C -2.431076 -0.000850906 2.430162 -0.000850906 11.039346 -0.000850906 \" transform=\"matrix(0.985957,0,0,-0.985957,57.084435,22.358536)\"/>\n",
       "<g style=\"fill:rgb(0%,0%,0%);fill-opacity:1;\">\n",
       "  <use xlink:href=\"#glyph-1709235269817001-0-4\" x=\"53.112016\" y=\"18.789373\"/>\n",
       "</g>\n",
       "<g clip-path=\"url(#clip-1709235269817001-2)\" clip-rule=\"nonzero\">\n",
       "<path style=\"fill:none;stroke-width:0.59776;stroke-linecap:butt;stroke-linejoin:miter;stroke:rgb(0%,0%,0%);stroke-opacity:1;stroke-miterlimit:10;\" d=\"M 34.315442 -0.000850906 C 43.158377 -0.000850906 48.150357 -0.000850906 56.993293 -0.000850906 \" transform=\"matrix(0.985957,0,0,-0.985957,57.084435,22.358536)\"/>\n",
       "</g>\n",
       "<g style=\"fill:rgb(0%,0%,0%);fill-opacity:1;\">\n",
       "  <use xlink:href=\"#glyph-1709235269817001-0-3\" x=\"98.411789\" y=\"18.789373\"/>\n",
       "</g>\n",
       "</g>\n",
       "</svg>\n",
       "\n"
      ],
      "text/plain": [
       "Catlab.Graphics.TikZ.Document(Catlab.Graphics.TikZ.Picture(Catlab.Graphics.TikZ.Statement[Catlab.Graphics.TikZ.Node(\"root\", Catlab.Graphics.TikZ.Property[Catlab.Graphics.TikZ.Property(\"outer box\", nothing), Catlab.Graphics.TikZ.Property(\"minimum width\", \"10\\\\tikzunit\"), Catlab.Graphics.TikZ.Property(\"minimum height\", \"4\\\\tikzunit\")], Catlab.Graphics.TikZ.Coordinate(\"0\", \"0\"), \"\"), Catlab.Graphics.TikZ.Node(\"n1\", Catlab.Graphics.TikZ.Property[Catlab.Graphics.TikZ.Property(\"box\", nothing), Catlab.Graphics.TikZ.Property(\"minimum size\", \"2\\\\tikzunit\")], Catlab.Graphics.TikZ.Coordinate(\"-2\", \"0\"), \"\\$f\\$\"), Catlab.Graphics.TikZ.Node(\"n2\", Catlab.Graphics.TikZ.Property[Catlab.Graphics.TikZ.Property(\"box\", nothing), Catlab.Graphics.TikZ.Property(\"minimum size\", \"2\\\\tikzunit\")], Catlab.Graphics.TikZ.Coordinate(\"2\", \"0\"), \"\\$g\\$\"), Catlab.Graphics.TikZ.Edge(Catlab.Graphics.TikZ.PathExpression[Catlab.Graphics.TikZ.NodeCoordinate(\"root.west\"), Catlab.Graphics.TikZ.PathOperation(\"to\", Catlab.Graphics.TikZ.Property[Catlab.Graphics.TikZ.Property(\"out\", \"0\"), Catlab.Graphics.TikZ.Property(\"in\", \"-180\")]), Catlab.Graphics.TikZ.NodeCoordinate(\"n1.west\")], Catlab.Graphics.TikZ.Property[Catlab.Graphics.TikZ.Property(\"wire\", \"{\\\\node[anchor=south] {\\$A\\$};}\")]), Catlab.Graphics.TikZ.Edge(Catlab.Graphics.TikZ.PathExpression[Catlab.Graphics.TikZ.NodeCoordinate(\"n1.east\"), Catlab.Graphics.TikZ.PathOperation(\"to\", Catlab.Graphics.TikZ.Property[Catlab.Graphics.TikZ.Property(\"out\", \"0\"), Catlab.Graphics.TikZ.Property(\"in\", \"-180\")]), Catlab.Graphics.TikZ.NodeCoordinate(\"n2.west\")], Catlab.Graphics.TikZ.Property[Catlab.Graphics.TikZ.Property(\"wire\", \"{\\\\node[anchor=south] {\\$B\\$};}\")]), Catlab.Graphics.TikZ.Edge(Catlab.Graphics.TikZ.PathExpression[Catlab.Graphics.TikZ.NodeCoordinate(\"n2.east\"), Catlab.Graphics.TikZ.PathOperation(\"to\", Catlab.Graphics.TikZ.Property[Catlab.Graphics.TikZ.Property(\"out\", \"0\"), Catlab.Graphics.TikZ.Property(\"in\", \"180\")]), Catlab.Graphics.TikZ.NodeCoordinate(\"root.east\")], Catlab.Graphics.TikZ.Property[Catlab.Graphics.TikZ.Property(\"wire\", \"{\\\\node[anchor=south] {\\$A\\$};}\")])], Catlab.Graphics.TikZ.Property[Catlab.Graphics.TikZ.Property(\"unit length/.code\", \"{{\\\\newdimen\\\\tikzunit}\\\\setlength{\\\\tikzunit}{#1}}\"), Catlab.Graphics.TikZ.Property(\"unit length\", \"4mm\"), Catlab.Graphics.TikZ.Property(\"x\", \"\\\\tikzunit\"), Catlab.Graphics.TikZ.Property(\"y\", \"\\\\tikzunit\"), Catlab.Graphics.TikZ.Property(\"semithick\", nothing), Catlab.Graphics.TikZ.Property(\"box/.style\", Catlab.Graphics.TikZ.Property[Catlab.Graphics.TikZ.Property(\"rectangle\", nothing), Catlab.Graphics.TikZ.Property(\"draw\", nothing), Catlab.Graphics.TikZ.Property(\"solid\", nothing), Catlab.Graphics.TikZ.Property(\"rounded corners\", nothing)]), Catlab.Graphics.TikZ.Property(\"outer box/.style\", Catlab.Graphics.TikZ.Property[Catlab.Graphics.TikZ.Property(\"draw\", \"none\")]), Catlab.Graphics.TikZ.Property(\"wire/.style\", Catlab.Graphics.TikZ.Property[Catlab.Graphics.TikZ.Property(\"draw\", nothing), Catlab.Graphics.TikZ.Property(\"postaction\", Catlab.Graphics.TikZ.Property[Catlab.Graphics.TikZ.Property(\"decorate\", nothing)]), Catlab.Graphics.TikZ.Property(\"decoration\", Catlab.Graphics.TikZ.Property[Catlab.Graphics.TikZ.Property(\"markings\", nothing), Catlab.Graphics.TikZ.Property(\"mark\", \"at position 0.5 with {#1}\")])])]), [\"calc\", \"shapes.geometric\", \"decorations.markings\"], [\"amssymb\"])"
      ]
     },
     "metadata": {},
     "output_type": "display_data"
    }
   ],
   "source": [
    "to_tikz(f⋅g, labels=true)"
   ]
  },
  {
   "cell_type": "code",
   "execution_count": 13,
   "metadata": {},
   "outputs": [
    {
     "data": {
      "image/svg+xml": [
       "<?xml version=\"1.0\" encoding=\"UTF-8\" standalone=\"no\"?>\r\n",
       "<!DOCTYPE svg PUBLIC \"-//W3C//DTD SVG 1.1//EN\"\r\n",
       " \"http://www.w3.org/Graphics/SVG/1.1/DTD/svg11.dtd\">\r\n",
       "<!-- Generated by graphviz version 10.0.1 (20240210.2158)\r\n",
       " -->\r\n",
       "<!-- Title: G Pages: 1 -->\r\n",
       "<svg width=\"106pt\" height=\"101pt\"\r\n",
       " viewBox=\"0.00 0.00 106.40 100.68\" xmlns=\"http://www.w3.org/2000/svg\" xmlns:xlink=\"http://www.w3.org/1999/xlink\">\r\n",
       "<g id=\"graph0\" class=\"graph\" transform=\"scale(1 1) rotate(0) translate(4 96.68)\">\r\n",
       "<title>G</title>\r\n",
       "<polygon fill=\"white\" stroke=\"none\" points=\"-4,4 -4,-96.68 102.4,-96.68 102.4,4 -4,4\"/>\r\n",
       "<!-- n1 -->\r\n",
       "<g id=\"node1\" class=\"node\">\r\n",
       "<title>n1</title>\r\n",
       "<ellipse fill=\"none\" stroke=\"black\" cx=\"27\" cy=\"-18\" rx=\"27\" ry=\"18\"/>\r\n",
       "<text text-anchor=\"middle\" x=\"27\" y=\"-12.57\" font-family=\"Times New Roman,serif\" font-size=\"14.00\">V</text>\r\n",
       "</g>\r\n",
       "<!-- n2 -->\r\n",
       "<g id=\"node2\" class=\"node\">\r\n",
       "<title>n2</title>\r\n",
       "<ellipse fill=\"none\" stroke=\"black\" cx=\"71.4\" cy=\"-74.68\" rx=\"27\" ry=\"18\"/>\r\n",
       "<text text-anchor=\"middle\" x=\"71.4\" y=\"-69.25\" font-family=\"Times New Roman,serif\" font-size=\"14.00\">E</text>\r\n",
       "</g>\r\n",
       "<!-- n2&#45;&gt;n1 -->\r\n",
       "<g id=\"edge1\" class=\"edge\">\r\n",
       "<title>n2&#45;&gt;n1</title>\r\n",
       "<path fill=\"none\" stroke=\"black\" d=\"M65.08,-57.02C61.61,-51.54 57.2,-45.47 52.59,-39.76\"/>\r\n",
       "<polygon fill=\"black\" stroke=\"black\" points=\"55.45,-37.71 46.29,-32.38 50.12,-42.26 55.45,-37.71\"/>\r\n",
       "<text text-anchor=\"middle\" x=\"67.46\" y=\"-35.09\" font-family=\"Times New Roman,serif\" font-size=\"14.00\">src</text>\r\n",
       "</g>\r\n",
       "<!-- n2&#45;&gt;n1 -->\r\n",
       "<g id=\"edge2\" class=\"edge\">\r\n",
       "<title>n2&#45;&gt;n1</title>\r\n",
       "<path fill=\"none\" stroke=\"black\" d=\"M52.9,-61.23C48.48,-56.35 43.88,-50.67 39.76,-45.06\"/>\r\n",
       "<polygon fill=\"black\" stroke=\"black\" points=\"42.83,-43.34 34.28,-37.07 37.05,-47.3 42.83,-43.34\"/>\r\n",
       "<text text-anchor=\"middle\" x=\"39.21\" y=\"-39.85\" font-family=\"Times New Roman,serif\" font-size=\"14.00\">tgt</text>\r\n",
       "</g>\r\n",
       "</g>\r\n",
       "</svg>\r\n"
      ],
      "text/plain": [
       "Catlab.Graphics.Graphviz.Graph(\"G\", true, \"neato\", Catlab.Graphics.Graphviz.Statement[Catlab.Graphics.Graphviz.Node(\"n1\", OrderedCollections.OrderedDict{Symbol, Union{String, Catlab.Graphics.Graphviz.Html}}(:label => \"V\")), Catlab.Graphics.Graphviz.Node(\"n2\", OrderedCollections.OrderedDict{Symbol, Union{String, Catlab.Graphics.Graphviz.Html}}(:label => \"E\")), Catlab.Graphics.Graphviz.Edge(Catlab.Graphics.Graphviz.NodeID[Catlab.Graphics.Graphviz.NodeID(\"n2\", \"\", \"\"), Catlab.Graphics.Graphviz.NodeID(\"n1\", \"\", \"\")], OrderedCollections.OrderedDict{Symbol, Union{String, Catlab.Graphics.Graphviz.Html}}(:label => \"src\")), Catlab.Graphics.Graphviz.Edge(Catlab.Graphics.Graphviz.NodeID[Catlab.Graphics.Graphviz.NodeID(\"n2\", \"\", \"\"), Catlab.Graphics.Graphviz.NodeID(\"n1\", \"\", \"\")], OrderedCollections.OrderedDict{Symbol, Union{String, Catlab.Graphics.Graphviz.Html}}(:label => \"tgt\"))], OrderedCollections.OrderedDict{Symbol, Union{String, Catlab.Graphics.Graphviz.Html}}(), OrderedCollections.OrderedDict{Symbol, Union{String, Catlab.Graphics.Graphviz.Html}}(:margin => \"0\", :shape => \"ellipse\"), OrderedCollections.OrderedDict{Symbol, Union{String, Catlab.Graphics.Graphviz.Html}}())"
      ]
     },
     "metadata": {},
     "output_type": "display_data"
    }
   ],
   "source": [
    "using GATlab, Catlab.Theories\n",
    "using Catlab.CategoricalAlgebra\n",
    "using Catlab.Graphs\n",
    "using Catlab.Graphics\n",
    "\n",
    "draw(g; kw...) = to_graphviz(g; node_labels=true, edge_labels=true, kw...)\n",
    "draw(f::ACSetTransformation; kw...) =\n",
    "  to_graphviz(f; node_labels=true, edge_labels=true, draw_codom=false, kw...)\n",
    "\n",
    "to_graphviz(SchGraph)"
   ]
  },
  {
   "cell_type": "code",
   "execution_count": 17,
   "metadata": {},
   "outputs": [
    {
     "data": {
      "image/svg+xml": [
       "<?xml version=\"1.0\" encoding=\"UTF-8\" standalone=\"no\"?>\r\n",
       "<!DOCTYPE svg PUBLIC \"-//W3C//DTD SVG 1.1//EN\"\r\n",
       " \"http://www.w3.org/Graphics/SVG/1.1/DTD/svg11.dtd\">\r\n",
       "<!-- Generated by graphviz version 10.0.1 (20240210.2158)\r\n",
       " -->\r\n",
       "<!-- Title: G Pages: 1 -->\r\n",
       "<svg width=\"95pt\" height=\"70pt\"\r\n",
       " viewBox=\"0.00 0.00 95.30 70.27\" xmlns=\"http://www.w3.org/2000/svg\" xmlns:xlink=\"http://www.w3.org/1999/xlink\">\r\n",
       "<g id=\"graph0\" class=\"graph\" transform=\"scale(1 1) rotate(0) translate(4 66.27)\">\r\n",
       "<title>G</title>\r\n",
       "<polygon fill=\"white\" stroke=\"none\" points=\"-4,4 -4,-66.27 91.3,-66.27 91.3,4 -4,4\"/>\r\n",
       "<!-- n1 -->\r\n",
       "<g id=\"node1\" class=\"node\">\r\n",
       "<title>n1</title>\r\n",
       "<ellipse fill=\"none\" stroke=\"black\" cx=\"11.14\" cy=\"-51.14\" rx=\"11.14\" ry=\"11.14\"/>\r\n",
       "<text text-anchor=\"middle\" x=\"11.14\" y=\"-45.71\" font-family=\"Times New Roman,serif\" font-size=\"14.00\">1</text>\r\n",
       "</g>\r\n",
       "<!-- n2 -->\r\n",
       "<g id=\"node2\" class=\"node\">\r\n",
       "<title>n2</title>\r\n",
       "<ellipse fill=\"none\" stroke=\"black\" cx=\"76.16\" cy=\"-31.14\" rx=\"11.14\" ry=\"11.14\"/>\r\n",
       "<text text-anchor=\"middle\" x=\"76.16\" y=\"-25.71\" font-family=\"Times New Roman,serif\" font-size=\"14.00\">2</text>\r\n",
       "</g>\r\n",
       "<!-- n1&#45;&gt;n2 -->\r\n",
       "<g id=\"edge1\" class=\"edge\">\r\n",
       "<title>n1&#45;&gt;n2</title>\r\n",
       "<path fill=\"none\" stroke=\"black\" d=\"M22.26,-47.92C32.24,-44.76 47.65,-39.87 59.26,-36.18\"/>\r\n",
       "<polygon fill=\"black\" stroke=\"black\" points=\"59.59,-37.91 63.83,-34.73 58.53,-34.58 59.59,-37.91\"/>\r\n",
       "<text text-anchor=\"middle\" x=\"43.65\" y=\"-44.59\" font-family=\"Times New Roman,serif\" font-size=\"14.00\">1</text>\r\n",
       "</g>\r\n",
       "<!-- n3 -->\r\n",
       "<g id=\"node3\" class=\"node\">\r\n",
       "<title>n3</title>\r\n",
       "<ellipse fill=\"none\" stroke=\"black\" cx=\"11.14\" cy=\"-11.14\" rx=\"11.14\" ry=\"11.14\"/>\r\n",
       "<text text-anchor=\"middle\" x=\"11.14\" y=\"-5.71\" font-family=\"Times New Roman,serif\" font-size=\"14.00\">3</text>\r\n",
       "</g>\r\n",
       "<!-- n3&#45;&gt;n2 -->\r\n",
       "<g id=\"edge2\" class=\"edge\">\r\n",
       "<title>n3&#45;&gt;n2</title>\r\n",
       "<path fill=\"none\" stroke=\"black\" d=\"M22.25,-13.97C29.24,-15.96 38.73,-18.73 47.02,-21.39 51.03,-22.67 55.33,-24.12 59.34,-25.51\"/>\r\n",
       "<polygon fill=\"black\" stroke=\"black\" points=\"58.58,-27.09 63.87,-27.09 59.73,-23.79 58.58,-27.09\"/>\r\n",
       "<text text-anchor=\"middle\" x=\"43.65\" y=\"-24.59\" font-family=\"Times New Roman,serif\" font-size=\"14.00\">2</text>\r\n",
       "</g>\r\n",
       "</g>\r\n",
       "</svg>\r\n"
      ],
      "text/plain": [
       "Catlab.Graphics.Graphviz.Graph(\"G\", true, \"dot\", Catlab.Graphics.Graphviz.Statement[Catlab.Graphics.Graphviz.Node(\"n1\", OrderedCollections.OrderedDict{Symbol, Union{String, Catlab.Graphics.Graphviz.Html}}(:label => \"1\")), Catlab.Graphics.Graphviz.Node(\"n2\", OrderedCollections.OrderedDict{Symbol, Union{String, Catlab.Graphics.Graphviz.Html}}(:label => \"2\")), Catlab.Graphics.Graphviz.Node(\"n3\", OrderedCollections.OrderedDict{Symbol, Union{String, Catlab.Graphics.Graphviz.Html}}(:label => \"3\")), Catlab.Graphics.Graphviz.Edge(Catlab.Graphics.Graphviz.NodeID[Catlab.Graphics.Graphviz.NodeID(\"n1\", \"\", \"\"), Catlab.Graphics.Graphviz.NodeID(\"n2\", \"\", \"\")], OrderedCollections.OrderedDict{Symbol, Union{String, Catlab.Graphics.Graphviz.Html}}(:label => \"1\")), Catlab.Graphics.Graphviz.Edge(Catlab.Graphics.Graphviz.NodeID[Catlab.Graphics.Graphviz.NodeID(\"n3\", \"\", \"\"), Catlab.Graphics.Graphviz.NodeID(\"n2\", \"\", \"\")], OrderedCollections.OrderedDict{Symbol, Union{String, Catlab.Graphics.Graphviz.Html}}(:label => \"2\"))], OrderedCollections.OrderedDict{Symbol, Union{String, Catlab.Graphics.Graphviz.Html}}(:rankdir => \"LR\"), OrderedCollections.OrderedDict{Symbol, Union{String, Catlab.Graphics.Graphviz.Html}}(:height => \"0.05\", :margin => \"0\", :shape => \"circle\", :width => \"0.05\"), OrderedCollections.OrderedDict{Symbol, Union{String, Catlab.Graphics.Graphviz.Html}}(:arrowsize => \"0.5\"))"
      ]
     },
     "metadata": {},
     "output_type": "display_data"
    }
   ],
   "source": [
    "w = @acset Graph begin\n",
    "    V = 3\n",
    "    E = 2\n",
    "    src=[1,3]\n",
    "    tgt=[2,2]\n",
    "end\n",
    "  \n",
    "draw(w)"
   ]
  },
  {
   "cell_type": "code",
   "execution_count": 39,
   "metadata": {},
   "outputs": [
    {
     "data": {
      "text/plain": [
       "Presentation{GATlab.Stdlib.StdTheories.ThCategory.Meta.T, Symbol}(Catlab.Theories.FreeCategory, (Ob = Catlab.Theories.FreeCategory.Ob{:generator}[X, Y, Z, Y′], Hom = Catlab.Theories.FreeCategory.Hom{:generator}[f, g, h, f′, g′]), Dict(:Z => (:Ob => 3), :f => (:Hom => 1), :f′ => (:Hom => 4), :h => (:Hom => 3), :X => (:Ob => 1), :Y => (:Ob => 2), :g => (:Hom => 2), :Y′ => (:Ob => 4), :g′ => (:Hom => 5)), Pair[])"
      ]
     },
     "metadata": {},
     "output_type": "display_data"
    }
   ],
   "source": [
    "@present Q(FreeCategory) begin\n",
    "  (X,Y,Z)::Ob\n",
    "  f::Hom(X,Y)\n",
    "  g::Hom(Y,Z)\n",
    "  h::Hom(Y,Z)\n",
    "  Y′::Ob\n",
    "  f′::Hom(X,Y′)\n",
    "  g′::Hom(Y′,Z)\n",
    "end"
   ]
  },
  {
   "cell_type": "code",
   "execution_count": 30,
   "metadata": {},
   "outputs": [
    {
     "data": {
      "image/svg+xml": [
       "<?xml version=\"1.0\" encoding=\"UTF-8\" standalone=\"no\"?>\r\n",
       "<!DOCTYPE svg PUBLIC \"-//W3C//DTD SVG 1.1//EN\"\r\n",
       " \"http://www.w3.org/Graphics/SVG/1.1/DTD/svg11.dtd\">\r\n",
       "<!-- Generated by graphviz version 10.0.1 (20240210.2158)\r\n",
       " -->\r\n",
       "<!-- Title: G Pages: 1 -->\r\n",
       "<svg width=\"171pt\" height=\"153pt\"\r\n",
       " viewBox=\"0.00 0.00 171.04 152.54\" xmlns=\"http://www.w3.org/2000/svg\" xmlns:xlink=\"http://www.w3.org/1999/xlink\">\r\n",
       "<g id=\"graph0\" class=\"graph\" transform=\"scale(1 1) rotate(0) translate(4 148.54)\">\r\n",
       "<title>G</title>\r\n",
       "<polygon fill=\"white\" stroke=\"none\" points=\"-4,4 -4,-148.54 167.04,-148.54 167.04,4 -4,4\"/>\r\n",
       "<!-- n1 -->\r\n",
       "<g id=\"node1\" class=\"node\">\r\n",
       "<title>n1</title>\r\n",
       "<ellipse fill=\"none\" stroke=\"black\" cx=\"27\" cy=\"-81.26\" rx=\"27\" ry=\"18\"/>\r\n",
       "<text text-anchor=\"middle\" x=\"27\" y=\"-75.83\" font-family=\"Times New Roman,serif\" font-size=\"14.00\">X</text>\r\n",
       "</g>\r\n",
       "<!-- n2 -->\r\n",
       "<g id=\"node2\" class=\"node\">\r\n",
       "<title>n2</title>\r\n",
       "<ellipse fill=\"none\" stroke=\"black\" cx=\"72.58\" cy=\"-18\" rx=\"27\" ry=\"18\"/>\r\n",
       "<text text-anchor=\"middle\" x=\"72.58\" y=\"-12.57\" font-family=\"Times New Roman,serif\" font-size=\"14.00\">Y</text>\r\n",
       "</g>\r\n",
       "<!-- n1&#45;&gt;n2 -->\r\n",
       "<g id=\"edge1\" class=\"edge\">\r\n",
       "<title>n1&#45;&gt;n2</title>\r\n",
       "<path fill=\"none\" stroke=\"black\" d=\"M38.97,-64.64C43.62,-58.19 49.04,-50.67 54.15,-43.57\"/>\r\n",
       "<polygon fill=\"black\" stroke=\"black\" points=\"56.95,-45.68 59.95,-35.52 51.27,-41.59 56.95,-45.68\"/>\r\n",
       "<text text-anchor=\"middle\" x=\"44.31\" y=\"-40.8\" font-family=\"Times New Roman,serif\" font-size=\"14.00\">f</text>\r\n",
       "</g>\r\n",
       "<!-- n4 -->\r\n",
       "<g id=\"node4\" class=\"node\">\r\n",
       "<title>n4</title>\r\n",
       "<ellipse fill=\"none\" stroke=\"black\" cx=\"90.46\" cy=\"-126.54\" rx=\"27\" ry=\"18\"/>\r\n",
       "<text text-anchor=\"middle\" x=\"90.46\" y=\"-121.12\" font-family=\"Times New Roman,serif\" font-size=\"14.00\">Y′</text>\r\n",
       "</g>\r\n",
       "<!-- n1&#45;&gt;n4 -->\r\n",
       "<g id=\"edge4\" class=\"edge\">\r\n",
       "<title>n1&#45;&gt;n4</title>\r\n",
       "<path fill=\"none\" stroke=\"black\" d=\"M45.7,-94.6C50.94,-98.34 56.77,-102.5 62.43,-106.54\"/>\r\n",
       "<polygon fill=\"black\" stroke=\"black\" points=\"60.28,-109.3 70.45,-112.26 64.34,-103.6 60.28,-109.3\"/>\r\n",
       "<text text-anchor=\"middle\" x=\"50.31\" y=\"-103.02\" font-family=\"Times New Roman,serif\" font-size=\"14.00\">f′</text>\r\n",
       "</g>\r\n",
       "<!-- n3 -->\r\n",
       "<g id=\"node3\" class=\"node\">\r\n",
       "<title>n3</title>\r\n",
       "<ellipse fill=\"none\" stroke=\"black\" cx=\"136.04\" cy=\"-63.29\" rx=\"27\" ry=\"18\"/>\r\n",
       "<text text-anchor=\"middle\" x=\"136.04\" y=\"-57.86\" font-family=\"Times New Roman,serif\" font-size=\"14.00\">Z</text>\r\n",
       "</g>\r\n",
       "<!-- n2&#45;&gt;n3 -->\r\n",
       "<g id=\"edge2\" class=\"edge\">\r\n",
       "<title>n2&#45;&gt;n3</title>\r\n",
       "<path fill=\"none\" stroke=\"black\" d=\"M85.13,-34.27C90.4,-38.79 96.75,-43.65 103.17,-48.1\"/>\r\n",
       "<polygon fill=\"black\" stroke=\"black\" points=\"100.96,-50.83 111.24,-53.41 104.81,-44.99 100.96,-50.83\"/>\r\n",
       "<text text-anchor=\"middle\" x=\"90.78\" y=\"-43.63\" font-family=\"Times New Roman,serif\" font-size=\"14.00\">g</text>\r\n",
       "</g>\r\n",
       "<!-- n2&#45;&gt;n3 -->\r\n",
       "<g id=\"edge3\" class=\"edge\">\r\n",
       "<title>n2&#45;&gt;n3</title>\r\n",
       "<path fill=\"none\" stroke=\"black\" d=\"M96.33,-27.18C102.4,-30.97 108.88,-35.47 114.82,-40.01\"/>\r\n",
       "<polygon fill=\"black\" stroke=\"black\" points=\"112.4,-42.56 122.38,-46.13 116.8,-37.12 112.4,-42.56\"/>\r\n",
       "<text text-anchor=\"middle\" x=\"108.95\" y=\"-20.29\" font-family=\"Times New Roman,serif\" font-size=\"14.00\">h</text>\r\n",
       "</g>\r\n",
       "<!-- n4&#45;&gt;n3 -->\r\n",
       "<g id=\"edge5\" class=\"edge\">\r\n",
       "<title>n4&#45;&gt;n3</title>\r\n",
       "<path fill=\"none\" stroke=\"black\" d=\"M102.44,-109.92C107.08,-103.48 112.5,-95.96 117.62,-88.85\"/>\r\n",
       "<polygon fill=\"black\" stroke=\"black\" points=\"120.41,-90.96 123.42,-80.8 114.73,-86.87 120.41,-90.96\"/>\r\n",
       "<text text-anchor=\"middle\" x=\"105.15\" y=\"-86.09\" font-family=\"Times New Roman,serif\" font-size=\"14.00\">g′</text>\r\n",
       "</g>\r\n",
       "</g>\r\n",
       "</svg>\r\n"
      ],
      "text/plain": [
       "Catlab.Graphics.Graphviz.Graph(\"G\", true, \"neato\", Catlab.Graphics.Graphviz.Statement[Catlab.Graphics.Graphviz.Node(\"n1\", OrderedCollections.OrderedDict{Symbol, Union{String, Catlab.Graphics.Graphviz.Html}}(:label => \"X\")), Catlab.Graphics.Graphviz.Node(\"n2\", OrderedCollections.OrderedDict{Symbol, Union{String, Catlab.Graphics.Graphviz.Html}}(:label => \"Y\")), Catlab.Graphics.Graphviz.Node(\"n3\", OrderedCollections.OrderedDict{Symbol, Union{String, Catlab.Graphics.Graphviz.Html}}(:label => \"Z\")), Catlab.Graphics.Graphviz.Node(\"n4\", OrderedCollections.OrderedDict{Symbol, Union{String, Catlab.Graphics.Graphviz.Html}}(:label => \"Y′\")), Catlab.Graphics.Graphviz.Edge(Catlab.Graphics.Graphviz.NodeID[Catlab.Graphics.Graphviz.NodeID(\"n1\", \"\", \"\"), Catlab.Graphics.Graphviz.NodeID(\"n2\", \"\", \"\")], OrderedCollections.OrderedDict{Symbol, Union{String, Catlab.Graphics.Graphviz.Html}}(:label => \"f\")), Catlab.Graphics.Graphviz.Edge(Catlab.Graphics.Graphviz.NodeID[Catlab.Graphics.Graphviz.NodeID(\"n2\", \"\", \"\"), Catlab.Graphics.Graphviz.NodeID(\"n3\", \"\", \"\")], OrderedCollections.OrderedDict{Symbol, Union{String, Catlab.Graphics.Graphviz.Html}}(:label => \"g\")), Catlab.Graphics.Graphviz.Edge(Catlab.Graphics.Graphviz.NodeID[Catlab.Graphics.Graphviz.NodeID(\"n2\", \"\", \"\"), Catlab.Graphics.Graphviz.NodeID(\"n3\", \"\", \"\")], OrderedCollections.OrderedDict{Symbol, Union{String, Catlab.Graphics.Graphviz.Html}}(:label => \"h\")), Catlab.Graphics.Graphviz.Edge(Catlab.Graphics.Graphviz.NodeID[Catlab.Graphics.Graphviz.NodeID(\"n1\", \"\", \"\"), Catlab.Graphics.Graphviz.NodeID(\"n4\", \"\", \"\")], OrderedCollections.OrderedDict{Symbol, Union{String, Catlab.Graphics.Graphviz.Html}}(:label => \"f′\")), Catlab.Graphics.Graphviz.Edge(Catlab.Graphics.Graphviz.NodeID[Catlab.Graphics.Graphviz.NodeID(\"n4\", \"\", \"\"), Catlab.Graphics.Graphviz.NodeID(\"n3\", \"\", \"\")], OrderedCollections.OrderedDict{Symbol, Union{String, Catlab.Graphics.Graphviz.Html}}(:label => \"g′\"))], OrderedCollections.OrderedDict{Symbol, Union{String, Catlab.Graphics.Graphviz.Html}}(), OrderedCollections.OrderedDict{Symbol, Union{String, Catlab.Graphics.Graphviz.Html}}(:margin => \"0\", :shape => \"ellipse\"), OrderedCollections.OrderedDict{Symbol, Union{String, Catlab.Graphics.Graphviz.Html}}())"
      ]
     },
     "metadata": {},
     "output_type": "display_data"
    }
   ],
   "source": [
    "to_graphviz(Q)"
   ]
  },
  {
   "cell_type": "code",
   "execution_count": 34,
   "metadata": {},
   "outputs": [
    {
     "data": {
      "text/plain": [
       "compose (generic function with 75 methods)"
      ]
     },
     "metadata": {},
     "output_type": "display_data"
    }
   ],
   "source": [
    "function compose(P::Presentation, vs::Vector{Symbol})\n",
    "    compose(collect(generator(P, v) for v in vs))\n",
    "  end"
   ]
  },
  {
   "cell_type": "code",
   "execution_count": 37,
   "metadata": {},
   "outputs": [
    {
     "data": {
      "text/latex": [
       "$f \\cdot g : X \\to Z$"
      ],
      "text/plain": [
       "f⋅g: X → Z"
      ]
     },
     "metadata": {},
     "output_type": "display_data"
    }
   ],
   "source": [
    "compose(Q, [:f, :g])"
   ]
  },
  {
   "cell_type": "code",
   "execution_count": 50,
   "metadata": {},
   "outputs": [
    {
     "data": {
      "text/plain": [
       "Presentation{Catlab.Theories.ThThinCategory.Meta.T, Symbol}(Catlab.Theories.FreeThinCategory, (Ob = Catlab.Theories.FreeThinCategory.Ob{:generator}[X, Y, Z, Y′], Hom = Catlab.Theories.FreeThinCategory.Hom{:generator}[f, g, h, f′, g′]), Dict(:Z => (:Ob => 3), :f => (:Hom => 1), :f′ => (:Hom => 4), :h => (:Hom => 3), :X => (:Ob => 1), :Y => (:Ob => 2), :g => (:Hom => 2), :Y′ => (:Ob => 4), :g′ => (:Hom => 5)), Pair[])"
      ]
     },
     "metadata": {},
     "output_type": "display_data"
    }
   ],
   "source": [
    "@present Q(FreeThinCategory) begin\n",
    "  (X,Y,Z)::Ob\n",
    "  f::Hom(X,Y)\n",
    "  g::Hom(Y,Z)\n",
    "  h::Hom(Y,Z)\n",
    "  Y′::Ob\n",
    "  f′::Hom(X,Y′)\n",
    "  g′::Hom(Y′,Z)\n",
    "end"
   ]
  },
  {
   "cell_type": "code",
   "execution_count": 59,
   "metadata": {},
   "outputs": [
    {
     "data": {
      "text/plain": [
       "false"
      ]
     },
     "metadata": {},
     "output_type": "display_data"
    }
   ],
   "source": [
    "compose(Q, [:f, :g]) == generator(Q, :h)"
   ]
  },
  {
   "cell_type": "code",
   "execution_count": 3,
   "metadata": {},
   "outputs": [],
   "source": [
    "using Metatheory\n",
    "using Metatheory.EGraphs"
   ]
  },
  {
   "cell_type": "code",
   "execution_count": 6,
   "metadata": {},
   "outputs": [
    {
     "data": {
      "text/plain": [
       "1-element Vector{RewriteRule}:\n",
       " f(z(2), ~a) --> f(~a)"
      ]
     },
     "metadata": {},
     "output_type": "display_data"
    }
   ],
   "source": [
    "t = @theory a begin\n",
    "    f(z(2), a) --> f(a)\n",
    "  end"
   ]
  },
  {
   "cell_type": "code",
   "execution_count": 10,
   "metadata": {},
   "outputs": [
    {
     "data": {
      "text/plain": [
       "1-element Vector{RewriteRule}:\n",
       " ~a * ~b --> ~b * ~a"
      ]
     },
     "metadata": {},
     "output_type": "display_data"
    }
   ],
   "source": [
    "\n",
    "comm_monoid = @theory a b begin\n",
    "    a * b --> b * a\n",
    "end"
   ]
  },
  {
   "cell_type": "code",
   "execution_count": null,
   "metadata": {},
   "outputs": [],
   "source": []
  }
 ],
 "metadata": {
  "kernelspec": {
   "display_name": "Julia 1.10.2",
   "language": "julia",
   "name": "julia-1.10"
  },
  "language_info": {
   "file_extension": ".jl",
   "mimetype": "application/julia",
   "name": "julia",
   "version": "1.10.2"
  }
 },
 "nbformat": 4,
 "nbformat_minor": 4
}
